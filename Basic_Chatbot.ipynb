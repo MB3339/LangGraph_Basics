{
 "cells": [
  {
   "cell_type": "markdown",
   "id": "ba233d84",
   "metadata": {},
   "source": [
    "#### Build a Basic Chatbot with Langgraph(Graph Api)\n",
    "\n",
    "There are 3 imp components of Langgraph\n",
    "1) Edges\n",
    "2) Nodes\n",
    "3) State\n",
    "\n",
    "There are two types of Langgraph \n",
    "1) Graph Api\n",
    "2) Functional Api"
   ]
  },
  {
   "cell_type": "code",
   "execution_count": 1,
   "id": "79a848a3",
   "metadata": {},
   "outputs": [],
   "source": [
    "from typing import Annotated\n",
    "from typing_extensions import TypedDict\n",
    "from langgraph.graph import StateGraph, START, END\n",
    "from langgraph.graph.message import add_messages\n",
    "\n"
   ]
  },
  {
   "cell_type": "markdown",
   "id": "f8880743",
   "metadata": {},
   "source": [
    "##### Creating a state"
   ]
  },
  {
   "cell_type": "code",
   "execution_count": 2,
   "id": "9cf96a80",
   "metadata": {},
   "outputs": [],
   "source": [
    "class State(TypedDict):\n",
    "    # Message have the type \"list\". The 'add_message' function \n",
    "    #in the annotation defines how this state should be upadted \n",
    "    #(in this case it appends the messages to the list instead of overwritting them)\n",
    "    messages:Annotated[list, add_messages]\n",
    "\n"
   ]
  },
  {
   "cell_type": "code",
   "execution_count": 3,
   "id": "6b3101e1",
   "metadata": {},
   "outputs": [
    {
     "data": {
      "text/plain": [
       "True"
      ]
     },
     "execution_count": 3,
     "metadata": {},
     "output_type": "execute_result"
    }
   ],
   "source": [
    "import os\n",
    "from dotenv import load_dotenv\n",
    "load_dotenv()\n"
   ]
  },
  {
   "cell_type": "code",
   "execution_count": 4,
   "id": "0b185d8c",
   "metadata": {},
   "outputs": [],
   "source": [
    "from langchain_groq import ChatGroq\n",
    "from langchain.chat_models import init_chat_model\n",
    "\n",
    "llm=ChatGroq(model='llama3-8b-8192')"
   ]
  },
  {
   "cell_type": "code",
   "execution_count": 5,
   "id": "76be4c6f",
   "metadata": {},
   "outputs": [],
   "source": [
    "## Node Functionality\n",
    "def chatbot(state:State):\n",
    "    response=llm.invoke(state[\"messages\"])\n",
    "    return {\"messages\":[response]}"
   ]
  },
  {
   "cell_type": "code",
   "execution_count": 6,
   "id": "015cd341",
   "metadata": {},
   "outputs": [],
   "source": [
    "graph_builder=StateGraph(State)\n",
    "\n",
    "#Adding Node\n",
    "graph_builder.add_node(\"LLmchatbot\",chatbot)\n",
    "# Adding Edges\n",
    "graph_builder.add_edge(START,'LLmchatbot')\n",
    "graph_builder.add_edge('LLmchatbot',END)\n",
    "\n",
    "## Compile the Graph\n",
    "graph=graph_builder.compile()\n"
   ]
  },
  {
   "cell_type": "code",
   "execution_count": 7,
   "id": "c5082762",
   "metadata": {},
   "outputs": [
    {
     "data": {
      "image/png": "[encoded data removed]",
      "text/plain": [
       "<IPython.core.display.Image object>"
      ]
     },
     "metadata": {},
     "output_type": "display_data"
    }
   ],
   "source": [
    "## Visualize the graph\n",
    "from IPython.display import Image,display\n",
    "\n",
    "try:\n",
    "    display(Image(graph.get_graph().draw_mermaid_png()))\n",
    "except:\n",
    "    pass "
   ]
  },
  {
   "cell_type": "code",
   "execution_count": 8,
   "id": "db653f80",
   "metadata": {},
   "outputs": [],
   "source": [
    "response_initial=graph.invoke({\"messages\":\"HI\"})"
   ]
  },
  {
   "cell_type": "code",
   "execution_count": 9,
   "id": "d7f6b7ab",
   "metadata": {},
   "outputs": [
    {
     "data": {
      "text/plain": [
       "{'messages': [HumanMessage(content='HI', additional_kwargs={}, response_metadata={}, id='ddf3b5ff-28c2-4b35-a15f-33ad55a7418f'),\n",
       "  AIMessage(content=\"Hi! It's nice to meet you. Is there something I can help you with or would you like to chat?\", additional_kwargs={}, response_metadata={'token_usage': {'completion_tokens': 25, 'prompt_tokens': 11, 'total_tokens': 36, 'completion_time': 0.032911313, 'prompt_time': 0.002764283, 'queue_time': 0.0016624459999999997, 'total_time': 0.035675596}, 'model_name': 'llama3-8b-8192', 'system_fingerprint': 'fp_5b339000ab', 'service_tier': 'on_demand', 'finish_reason': 'stop', 'logprobs': None}, id='run--aca85244-08f1-43f8-ae53-c72fb6a92349-0', usage_metadata={'input_tokens': 11, 'output_tokens': 25, 'total_tokens': 36})]}"
      ]
     },
     "execution_count": 9,
     "metadata": {},
     "output_type": "execute_result"
    }
   ],
   "source": [
    "response_initial"
   ]
  },
  {
   "cell_type": "code",
   "execution_count": 10,
   "id": "6495d056",
   "metadata": {},
   "outputs": [
    {
     "data": {
      "text/plain": [
       "\"Hi! It's nice to meet you. Is there something I can help you with or would you like to chat?\""
      ]
     },
     "execution_count": 10,
     "metadata": {},
     "output_type": "execute_result"
    }
   ],
   "source": [
    "response_initial['messages'][-1].content"
   ]
  },
  {
   "cell_type": "code",
   "execution_count": 11,
   "id": "8511307e",
   "metadata": {},
   "outputs": [
    {
     "name": "stdout",
     "output_type": "stream",
     "text": [
      "{'LLmchatbot': {'messages': [AIMessage(content=\"I'm just an AI, so I don't have feelings like humans do, but I'm functioning properly and ready to help you with any questions or tasks you have! It's great to chat with you. How can I assist you today?\", additional_kwargs={}, response_metadata={'token_usage': {'completion_tokens': 50, 'prompt_tokens': 15, 'total_tokens': 65, 'completion_time': 0.065342002, 'prompt_time': 0.003223567, 'queue_time': 0.0014709839999999998, 'total_time': 0.068565569}, 'model_name': 'llama3-8b-8192', 'system_fingerprint': 'fp_5b339000ab', 'service_tier': 'on_demand', 'finish_reason': 'stop', 'logprobs': None}, id='run--cafda777-ce93-462e-ace1-69e43a0cd8d6-0', usage_metadata={'input_tokens': 15, 'output_tokens': 50, 'total_tokens': 65})]}}\n"
     ]
    }
   ],
   "source": [
    "for event in graph.stream({\"messages\":\"Hi How are you?\"}):\n",
    "    print(event)"
   ]
  },
  {
   "cell_type": "markdown",
   "id": "38717643",
   "metadata": {},
   "source": [
    "### Chat Bot with tools with the help of Langgrapgh"
   ]
  },
  {
   "cell_type": "code",
   "execution_count": 12,
   "id": "9c757134",
   "metadata": {},
   "outputs": [
    {
     "data": {
      "text/plain": [
       "{'query': 'what is Langgraph',\n",
       " 'follow_up_questions': None,\n",
       " 'answer': None,\n",
       " 'images': [],\n",
       " 'results': [{'url': 'https://www.datacamp.com/tutorial/langgraph-tutorial',\n",
       "   'title': 'LangGraph Tutorial: What Is LangGraph and How to Use It?',\n",
       "   'content': 'LangGraph is a library within the LangChain ecosystem that provides a framework for defining, coordinating, and executing multiple LLM agents (or chains) in a structured and efficient manner. By managing the flow of data and the sequence of operations, LangGraph allows developers to focus on the high-level logic of their applications rather than the intricacies of agent coordination. Whether you need a chatbot that can handle various types of user requests or a multi-agent system that performs complex tasks, LangGraph provides the tools to build exactly what you need. LangGraph significantly simplifies the development of complex LLM applications by providing a structured framework for managing state and coordinating agent interactions.',\n",
       "   'score': 0.942385,\n",
       "   'raw_content': None},\n",
       "  {'url': 'https://www.ibm.com/think/topics/langgraph',\n",
       "   'title': 'What is LangGraph? - IBM',\n",
       "   'content': 'LangGraph, created by LangChain, is an open source AI agent framework designed to build, deploy and manage complex generative AI agent workflows. At its core, LangGraph uses the power of graph-based architectures to model and manage the intricate relationships between various components of an AI agent workflow. LangGraph illuminates the processes within an AI workflow, allowing full transparency of the agent’s state. By combining these technologies with a set of APIs and tools, LangGraph provides users with a versatile platform for developing AI solutions and workflows including chatbots, state graphs and other agent-based systems. Nodes: In LangGraph, nodes represent individual components or agents within an AI workflow. LangGraph uses enhanced decision-making by modeling complex relationships between nodes, which means it uses AI agents to analyze their past actions and feedback.',\n",
       "   'score': 0.93624437,\n",
       "   'raw_content': None},\n",
       "  {'url': 'https://langchain-ai.github.io/langgraph/',\n",
       "   'title': 'LangGraph - GitHub Pages',\n",
       "   'content': 'LangGraph Our Building Ambient Agents with LangGraph course is now available on LangChain Academy! LangGraph  LangGraph  LangGraph Trusted by companies shaping the future of agents – including Klarna, Replit, Elastic, and more – LangGraph is a low-level orchestration framework for building, managing, and deploying long-running, stateful agents. from langgraph.prebuilt import create_react_agent Or, to learn how to build an agent workflow with a customizable architecture, long-term memory, and other complex task handling, see the LangGraph basics tutorials. LangGraph provides low-level supporting infrastructure for _any_ long-running, stateful workflow or agent. While LangGraph can be used standalone, it also integrates seamlessly with any LangChain product, giving developers a full suite of tools for building agents. *   LangGraph Platform — Deploy and scale agents effortlessly with a purpose-built deployment platform for long running, stateful workflows.',\n",
       "   'score': 0.9170729,\n",
       "   'raw_content': None},\n",
       "  {'url': 'https://www.langchain.com/langgraph',\n",
       "   'title': 'LangGraph - LangChain',\n",
       "   'content': \"Design agent-driven user experiences with LangGraph Platform's APIs. Quickly deploy and scale your application with infrastructure built for agents. LangGraph sets the foundation for how we can build and scale AI workloads — from conversational agents, complex task automation, to custom LLM-backed experiences that 'just work'. The next chapter in building complex production-ready features with LLMs is agentic, and with LangGraph and LangSmith, LangChain delivers an out-of-the-box solution to iterate quickly, debug immediately, and scale effortlessly.” LangGraph sets the foundation for how we can build and scale AI workloads — from conversational agents, complex task automation, to custom LLM-backed experiences that 'just work'. LangGraph Platform is a service for deploying and scaling LangGraph applications, with an opinionated API for building agent UXs, plus an integrated developer studio.\",\n",
       "   'score': 0.83290404,\n",
       "   'raw_content': None},\n",
       "  {'url': 'https://medium.com/@cplog/introduction-to-langgraph-a-beginners-guide-14f9be027141',\n",
       "   'title': \"Introduction to LangGraph: A Beginner's Guide - Medium\",\n",
       "   'content': '*   **Stateful Graph:** LangGraph revolves around the concept of a stateful graph, where each node in the graph represents a step in your computation, and the graph maintains a state that is passed around and updated as the computation progresses. LangGraph supports conditional edges, allowing you to dynamically determine the next node to execute based on the current state of the graph. Image 10: Introduction to AI Agent with LangChain and LangGraph: A Beginner’s Guide Image 18: How to build LLM Agent with LangGraph\\u200a—\\u200aStateGraph and Reducer Image 20: Simplest Graphs using LangGraph Framework Image 24: Building a ReAct Agent with Langgraph: A Step-by-Step Guide Image 28: Building an Agentic RAG with LangGraph: A Step-by-Step Guide',\n",
       "   'score': 0.8058924,\n",
       "   'raw_content': None}],\n",
       " 'response_time': 1.17}"
      ]
     },
     "execution_count": 12,
     "metadata": {},
     "output_type": "execute_result"
    }
   ],
   "source": [
    "from langchain_tavily import TavilySearch\n",
    "\n",
    "tool=TavilySearch(max_result=2)\n",
    "tool.invoke(\"what is Langgraph\")"
   ]
  },
  {
   "cell_type": "code",
   "execution_count": 13,
   "id": "db9d3d51",
   "metadata": {},
   "outputs": [],
   "source": [
    "## Custom Function\n",
    "def multiply(a:int,b:int)->int:\n",
    "    \"\"\"Multiply a and b\n",
    "    Args:\n",
    "        a (int): First int\n",
    "        b (int): Second int\n",
    "\n",
    "    Returns:\n",
    "        int:output int\n",
    "    \"\"\" \n",
    "    return a*b   "
   ]
  },
  {
   "cell_type": "code",
   "execution_count": 14,
   "id": "89dacf24",
   "metadata": {},
   "outputs": [],
   "source": [
    "tools=[tool,multiply]"
   ]
  },
  {
   "cell_type": "code",
   "execution_count": 15,
   "id": "907ce62a",
   "metadata": {},
   "outputs": [
    {
     "data": {
      "text/plain": [
       "RunnableBinding(bound=ChatGroq(client=<groq.resources.chat.completions.Completions object at 0x000001EA1075EF50>, async_client=<groq.resources.chat.completions.AsyncCompletions object at 0x000001EA1085A090>, model_name='llama3-8b-8192', model_kwargs={}, groq_api_key=SecretStr('**********')), kwargs={'tools': [{'type': 'function', 'function': {'name': 'tavily_search', 'description': 'A search engine optimized for comprehensive, accurate, and trusted results. Useful for when you need to answer questions about current events. It not only retrieves URLs and snippets, but offers advanced search depths, domain management, time range filters, and image search, this tool delivers real-time, accurate, and citation-backed results.Input should be a search query.', 'parameters': {'properties': {'query': {'description': 'Search query to look up', 'type': 'string'}, 'include_domains': {'anyOf': [{'items': {'type': 'string'}, 'type': 'array'}, {'type': 'null'}], 'default': [], 'description': 'A list of domains to restrict search results to.\\n\\n        Use this parameter when:\\n        1. The user explicitly requests information from specific websites (e.g., \"Find climate data from nasa.gov\")\\n        2. The user mentions an organization or company without specifying the domain (e.g., \"Find information about iPhones from Apple\")\\n\\n        In both cases, you should determine the appropriate domains (e.g., [\"nasa.gov\"] or [\"apple.com\"]) and set this parameter.\\n\\n        Results will ONLY come from the specified domains - no other sources will be included.\\n        Default is None (no domain restriction).\\n        '}, 'exclude_domains': {'anyOf': [{'items': {'type': 'string'}, 'type': 'array'}, {'type': 'null'}], 'default': [], 'description': 'A list of domains to exclude from search results.\\n\\n        Use this parameter when:\\n        1. The user explicitly requests to avoid certain websites (e.g., \"Find information about climate change but not from twitter.com\")\\n        2. The user mentions not wanting results from specific organizations without naming the domain (e.g., \"Find phone reviews but nothing from Apple\")\\n\\n        In both cases, you should determine the appropriate domains to exclude (e.g., [\"twitter.com\"] or [\"apple.com\"]) and set this parameter.\\n\\n        Results will filter out all content from the specified domains.\\n        Default is None (no domain exclusion).\\n        '}, 'search_depth': {'anyOf': [{'enum': ['basic', 'advanced'], 'type': 'string'}, {'type': 'null'}], 'default': 'basic', 'description': 'Controls search thoroughness and result comprehensiveness.\\n    \\n        Use \"basic\" for simple queries requiring quick, straightforward answers.\\n        \\n        Use \"advanced\" (default) for complex queries, specialized topics, \\n        rare information, or when in-depth analysis is needed.\\n        '}, 'include_images': {'anyOf': [{'type': 'boolean'}, {'type': 'null'}], 'default': False, 'description': 'Determines if the search returns relevant images along with text results.\\n   \\n        Set to True when the user explicitly requests visuals or when images would \\n        significantly enhance understanding (e.g., \"Show me what black holes look like,\" \\n        \"Find pictures of Renaissance art\").\\n        \\n        Leave as False (default) for most informational queries where text is sufficient.\\n        '}, 'time_range': {'anyOf': [{'enum': ['day', 'week', 'month', 'year'], 'type': 'string'}, {'type': 'null'}], 'default': None, 'description': 'Limits results to content published within a specific timeframe.\\n        \\n        ONLY set this when the user explicitly mentions a time period \\n        (e.g., \"latest AI news,\" \"articles from last week\").\\n        \\n        For less popular or niche topics, use broader time ranges \\n        (\"month\" or \"year\") to ensure sufficient relevant results.\\n   \\n        Options: \"day\" (24h), \"week\" (7d), \"month\" (30d), \"year\" (365d).\\n        \\n        Default is None.\\n        '}, 'topic': {'anyOf': [{'enum': ['general', 'news', 'finance'], 'type': 'string'}, {'type': 'null'}], 'default': 'general', 'description': 'Specifies search category for optimized results.\\n   \\n        Use \"general\" (default) for most queries, INCLUDING those with terms like \\n        \"latest,\" \"newest,\" or \"recent\" when referring to general information.\\n\\n        Use \"finance\" for markets, investments, economic data, or financial news.\\n\\n        Use \"news\" ONLY for politics, sports, or major current events covered by \\n        mainstream media - NOT simply because a query asks for \"new\" information.\\n        '}, 'include_favicon': {'anyOf': [{'type': 'boolean'}, {'type': 'null'}], 'default': False, 'description': \"Determines whether to include favicon URLs for each search result.\\n        \\n        When enabled, each search result will include the website's favicon URL,\\n        which can be useful for:\\n        - Building rich UI interfaces with visual website indicators\\n        - Providing visual cues about the source's credibility or brand\\n        - Creating bookmark-like displays with recognizable site icons\\n        \\n        Set to True when creating user interfaces that benefit from visual branding\\n        or when favicon information enhances the user experience.\\n        \\n        Default is False to minimize response size and API usage.\\n        \"}, 'start_date': {'anyOf': [{'type': 'string'}, {'type': 'null'}], 'default': None, 'description': 'Filters search results to include only content published on or after this date.\\n        \\n        Use this parameter when you need to:\\n        - Find recent developments or updates on a topic\\n        - Exclude outdated information from search results\\n        - Focus on content within a specific timeframe\\n        - Combine with end_date to create a custom date range\\n        \\n        Format must be YYYY-MM-DD (e.g., \"2024-01-15\" for January 15, 2024).\\n        \\n        Examples:\\n        - \"2024-01-01\" - Results from January 1, 2024 onwards\\n        - \"2023-12-25\" - Results from December 25, 2023 onwards\\n        \\n        When combined with end_date, creates a precise date range filter.\\n        \\n        Default is None (no start date restriction).\\n        '}, 'end_date': {'anyOf': [{'type': 'string'}, {'type': 'null'}], 'default': None, 'description': 'Filters search results to include only content published on or before this date.\\n        \\n        Use this parameter when you need to:\\n        - Exclude content published after a certain date\\n        - Study historical information or past events\\n        - Research how topics were covered during specific time periods\\n        - Combine with start_date to create a custom date range\\n        \\n        Format must be YYYY-MM-DD (e.g., \"2024-03-31\" for March 31, 2024).\\n        \\n        Examples:\\n        - \"2024-03-31\" - Results up to and including March 31, 2024\\n        - \"2023-12-31\" - Results up to and including December 31, 2023\\n        \\n        When combined with start_date, creates a precise date range filter.\\n        For example: start_date=\"2024-01-01\", end_date=\"2024-03-31\" \\n        returns results from Q1 2024 only.\\n        \\n        Default is None (no end date restriction).\\n        '}}, 'required': ['query'], 'type': 'object'}}}, {'type': 'function', 'function': {'name': 'multiply', 'description': 'Multiply a and b\\nArgs:\\n    a (int): First int\\n    b (int): Second int', 'parameters': {'properties': {'a': {'type': 'integer'}, 'b': {'type': 'integer'}}, 'required': ['a', 'b'], 'type': 'object'}}}]}, config={}, config_factories=[])"
      ]
     },
     "execution_count": 15,
     "metadata": {},
     "output_type": "execute_result"
    }
   ],
   "source": [
    "llm_with_tool= llm.bind_tools(tools)\n",
    "\n",
    "llm_with_tool"
   ]
  },
  {
   "cell_type": "markdown",
   "id": "8a151145",
   "metadata": {},
   "source": [
    "### Creating a Stategraph"
   ]
  },
  {
   "cell_type": "code",
   "execution_count": 16,
   "id": "299cb556",
   "metadata": {},
   "outputs": [
    {
     "data": {
      "image/png": "[encoded data removed]",
      "text/plain": [
       "<IPython.core.display.Image object>"
      ]
     },
     "metadata": {},
     "output_type": "display_data"
    }
   ],
   "source": [
    "from langgraph.graph import StateGraph,START,END\n",
    "from langgraph.prebuilt import ToolNode, tools_condition\n",
    "\n",
    "# Node Defination\n",
    "def tool_calling_llm(state:State):\n",
    "    return{\"messages\":[llm_with_tool.invoke(state[\"messages\"])]}\n",
    "\n",
    "## Graph\n",
    "builder= StateGraph(State)\n",
    "builder.add_node(\"tool_calling_llm\", tool_calling_llm)\n",
    "builder.add_node('tools',ToolNode(tools))\n",
    "\n",
    "## Add the Edges\n",
    "builder.add_edge(START,'tool_calling_llm')\n",
    "builder.add_conditional_edges(\n",
    "    \"tool_calling_llm\",\n",
    "    tools_condition\n",
    ")\n",
    "builder.add_edge(\"tools\",END)\n",
    "\n",
    "# Compile the grapgh \n",
    "graph=builder.compile()\n",
    "\n",
    "from IPython.display import Image,display\n",
    "display(Image(graph.get_graph().draw_mermaid_png()))"
   ]
  },
  {
   "cell_type": "code",
   "execution_count": 17,
   "id": "5705f081",
   "metadata": {},
   "outputs": [],
   "source": [
    "response=graph.invoke({'messages':'what are the recent ai news'})"
   ]
  },
  {
   "cell_type": "code",
   "execution_count": 18,
   "id": "f30c09c0",
   "metadata": {},
   "outputs": [
    {
     "name": "stdout",
     "output_type": "stream",
     "text": [
      "================================\u001b[1m Human Message \u001b[0m=================================\n",
      "\n",
      "what are the recent ai news\n",
      "==================================\u001b[1m Ai Message \u001b[0m==================================\n",
      "Tool Calls:\n",
      "  tavily_search (nqhftmk0j)\n",
      " Call ID: nqhftmk0j\n",
      "  Args:\n",
      "    query: recent ai news\n",
      "    search_depth: advanced\n",
      "    time_range: week\n",
      "    topic: news\n",
      "=================================\u001b[1m Tool Message \u001b[0m=================================\n",
      "Name: tavily_search\n",
      "\n",
      "{\"query\": \"recent ai news\", \"follow_up_questions\": null, \"answer\": null, \"images\": [], \"results\": [{\"url\": \"https://www.zdnet.com/article/microsoft-is-saving-millions-with-ai-and-laying-off-thousands-where-do-we-go-from-here/\", \"title\": \"Microsoft is saving millions with AI and laying off thousands - where do we go from here? - ZDNET\", \"score\": 0.7244226, \"published_date\": \"Thu, 17 Jul 2025 02:00:00 GMT\", \"content\": \"The news comes as several tech companies and leaders have noted, in rapid succession, that AI is poised to replace at least some percentage of human personnel. In May, Anthropic CEO Dario Amodei said he expects AI will axe half of all entry-level white-collar jobs in the next five years while pushing unemployment up to as much as 20%. Arecent survey found that 43% of managers who assessed whether AI could handle their direct reports' jobs went on to actually replace them with AI. [...] The current administration is creating several incentives (and very little regulation) for AI to speed ahead, without any built-in protections for workers. Trump's AI Action Plan, or formal AI policy, is set to be announced next week on July 23. During his first week in office, Trump reversed any semblance of worker protections included inPresident Biden's AI executive order.\\n\\nAlso: How I used ChatGPT to analyze, debug, and rewrite a broken plugin from scratch - in an hour [...] According to Bloomberg, Microsoft's chief commercial officer Judson Althoff shared in a presentation that AI tools were improving productivity across several teams, including sales, customer service, and engineering, noting AI had created over a third of the code for Microsoft's new products. Althoff noted AI had reduced customer service costs by over $500 million while upping employee and customer satisfaction.\", \"raw_content\": null}, {\"url\": \"https://www.rcrwireless.com/20250717/analyst-angle/security-ai-analyst\", \"title\": \"Powering security, but posing new risks: AI’s dual role in telecoms cybersecurity (Analyst Angle) - RCR Wireless News\", \"score\": 0.6578248, \"published_date\": \"Thu, 17 Jul 2025 15:24:15 GMT\", \"content\": \"Juan Pedro Tomás-July 16, 2025\\n\\nAI Infrastructure\\n\\n\\n\\n### Bookmarks: Superintelligence —AI alignment, Bayesian reasoning, Harry Potter fanfic, and a murder cult\\n\\nSean Kinney, Editor in Chief-July 11, 2025\\n\\n Implementation\\n\\nImage 16: 1200x1200 copy\\n\\n#### VIAVI Solutions White Paper: Validating Open RAN Equipment Interoperability and Performance\\n\\nImage 17: Screenshot 2025 05 22 at 16.32.46\\n\\n#### Rohde & Schwarz White Paper: Technical overview of 5G non-terrestrial networks\\n\\n#### Webinars [...] But AI is equally daunting. As mobile operators embrace AI to boost their defences, they’re also opening new frontiers for cybercriminals — who often unashamedly use the same technologies to probe, mimic, and outmanoeuvre them.\\n\\nIndeed, the GSMA’s latest Mobile Threat Security Landscape report reveals a whole host of AI-enabled security threats: including data poisoning and prompt injection attacks; Gen AI-powered scams; and synthetic identity fraud such as deepfakes. [...] Blackstone to invest $25B in DCs, energy in Pennsylvania\\n\\nNext article\\n\\nSK Telecom wins government AI bid in Korea: Report\\n\\n   artificial intelligence\\n   cybersecruity\\n   GSMA\\n\\nABOUT AUTHOR\\n\\nImage 7: Samantha Kight\\n\\nSamantha Kight\\n\\nHead of Industry Security, GSMA\\n\\nRELATED POSTS\\n-------------\\n\\nAI Infrastructure\\n\\n\\n\\n### Oracle to invest $3 billion in AI, cloud in Europe\\n\\nJuan Pedro Tomás-July 16, 2025\\n\\nAI Infrastructure\\n\\n\\n\\n### CoreWeave plans $6 billion AI data center in Pennsylvania\", \"raw_content\": null}, {\"url\": \"https://medium.com/@ksandler1/technology-innovation-publishing-newsletter-346-9afea634eb13\", \"title\": \"Technology * Innovation * Publishing Newsletter #346 | by Kathy Sandler | Jul, 2025 - Medium\", \"score\": 0.57637566, \"published_date\": \"Mon, 21 Jul 2025 22:19:00 GMT\", \"content\": \"Google Discover adds AI summaries, threatening publishers w further traffic declines\\n=================================================================================================================================================================================================================\\n\\nImage 11\\n\\nThe shift to AI-curated content raises serious concerns among publishers already struggling w declining website traffic, rising no-click search results, and fewer Google referrals. [...] AI-Generated Images of Child Sexual Abuse Are Flooding the Internet\\n================================================================================================================================================================================================================\\n\\nOrganizations that track the material are reporting a surge in A.I. images and videos, which are threatening to overwhelm law enforcement. [...] Industry video game actors pass agreement with studios for AI security\\n=======================================================================================================================================================================================================\\n\\nImage 12\\n\\nNew contract includes AI consent and disclosure requirements. Performers receive 15.17% pay increase, with additional raises thru 2027\", \"raw_content\": null}, {\"url\": \"https://adage.com/technology/ai/aa-why-yum-mattel-and-other-brands-tap-openai-and-nvidia-for-ai-marketing-transformations/\", \"title\": \"Why Yum, Mattel and other big brands are teaming up with OpenAI and Nvidia - Ad Age\", \"score\": 0.5726516, \"published_date\": \"Mon, 21 Jul 2025 09:07:19 GMT\", \"content\": \"Asmita Dubey, chief digital and marketing officer of L’Oréal Groupe (left), and Azita Martin, VP and general manager of AI for retail, CPG and QSR at Nvidia, announcing a partnership between the two companies in June. (L'Oréal) \\n\\nImage 8: AH By: Asa Hiken\\n\\nJuly 21, 2025 09:00 AM\\n\\nThe world’s biggest brands are teaming up with the world’s biggest AI companies to build infrastructure around a technology that is changing how they market to and interact with consumers. [...] Featured Stories\\n----------------\\n\\nAgencies\\n\\nHow 13 agencies and production companies are hiring for AI roles\\n\\nAd Age breaks down 13 job descriptions from agencies and production companies that have recently hired or seek to hire for AI-related positions.\\n\\nImage 9: BB By: Brian BonillaImage 10: AH By: Asa Hiken\\n\\nImage 11: How 13 agencies and production companies are hiring for AI roles\\n\\nAI\\n\\nWhy Yum, Mattel and other big brands are teaming up with OpenAI and Nvidia\\n\\nImage 12: AH By: Asa Hiken [...] Image 17: Why brands are lining up to star in commercial breaks during ‘The Group Chat’ on TikTok\\n\\nLatest News\\n-----------\\n\\nLast chance for 2025 Ad Age Small Agency Conference and Awards tickets\\n\\nHow brands can rise above low-quality AI content\\n\\nWhy advertising ethics must become a core creative capability\\n\\n5 AI predictions for the second half of 2025\\n\\nStaying current is easy with newsletters delivered straight to your inbox.\\n\\nSign Up\\n\\nSee More in AI\\n--------------\", \"raw_content\": null}, {\"url\": \"https://time.com/7302757/anthropic-xai-meta-openai-risk-management-2/\", \"title\": \"Top AI Firms Fall Short on Safety, New Studies Find - Time Magazine\", \"score\": 0.5582553, \"published_date\": \"Thu, 17 Jul 2025 07:11:55 GMT\", \"content\": \"of potential mitigations. These recent reports don’t take into account all of Google DeepMind's AI safety efforts, nor all of the industry benchmarks. Our comprehensive approach to AI safety and security extends well beyond what’s captured.” [...] Two companies, Anthropic and Google DeepMind, received lower scores than the first time the study was carried out, in October 2024. The result means that OpenAI has overtaken Google as second place in SaferAI's ratings. [...] Published Time: 2025-07-17T07:00:00Z\\n\\nOpenAI, Meta, xAI Have ‘Unacceptable’ Risk Practices: Studies | TIME\\n\\n===============\\n\\nSkip to Content\\n\\n   Explore Close\\n\\n. Each was the second of its kind, in what the groups hope will be a running series that incentivizes top AI companies to improve their practices.\\n\\nAdvertisement\\n\\nAdvertisement\\n\\n“We want to make it really easy for people to see who is not just talking the talk, but who is also walking the walk,” says Max Tegmark, president of the FLI.\", \"raw_content\": null}], \"response_time\": 1.48}\n"
     ]
    }
   ],
   "source": [
    "for m in response['messages']:\n",
    "    m.pretty_print()"
   ]
  },
  {
   "cell_type": "code",
   "execution_count": 19,
   "id": "dbbcb8d8",
   "metadata": {},
   "outputs": [
    {
     "name": "stdout",
     "output_type": "stream",
     "text": [
      "================================\u001b[1m Human Message \u001b[0m=================================\n",
      "\n",
      "what is 2 multiplied by 3\n",
      "==================================\u001b[1m Ai Message \u001b[0m==================================\n",
      "Tool Calls:\n",
      "  multiply (zsq4ygvj1)\n",
      " Call ID: zsq4ygvj1\n",
      "  Args:\n",
      "    a: 2\n",
      "    b: 3\n",
      "=================================\u001b[1m Tool Message \u001b[0m=================================\n",
      "Name: multiply\n",
      "\n",
      "6\n"
     ]
    }
   ],
   "source": [
    "response=graph.invoke({\"messages\":\"what is 2 multiplied by 3\"})\n",
    "\n",
    "for m in response['messages']:\n",
    "    m.pretty_print()"
   ]
  },
  {
   "cell_type": "code",
   "execution_count": 20,
   "id": "bda3d65f",
   "metadata": {},
   "outputs": [
    {
     "name": "stdout",
     "output_type": "stream",
     "text": [
      "================================\u001b[1m Human Message \u001b[0m=================================\n",
      "\n",
      "what is 2 multiplied by 5 and then multiply by 10\n",
      "==================================\u001b[1m Ai Message \u001b[0m==================================\n",
      "Tool Calls:\n",
      "  multiply (kv7e9d19m)\n",
      " Call ID: kv7e9d19m\n",
      "  Args:\n",
      "    a: 2\n",
      "    b: 5\n",
      "  multiply (peamr3h2m)\n",
      " Call ID: peamr3h2m\n",
      "  Args:\n",
      "    a: 10\n",
      "    b: 20\n",
      "=================================\u001b[1m Tool Message \u001b[0m=================================\n",
      "Name: multiply\n",
      "\n",
      "10\n",
      "=================================\u001b[1m Tool Message \u001b[0m=================================\n",
      "Name: multiply\n",
      "\n",
      "200\n"
     ]
    }
   ],
   "source": [
    "response=graph.invoke({\"messages\":\"what is 2 multiplied by 5 and then multiply by 10\"})\n",
    "\n",
    "for m in response['messages']:\n",
    "    m.pretty_print()"
   ]
  },
  {
   "cell_type": "code",
   "execution_count": 21,
   "id": "86280022",
   "metadata": {},
   "outputs": [
    {
     "name": "stdout",
     "output_type": "stream",
     "text": [
      "================================\u001b[1m Human Message \u001b[0m=================================\n",
      "\n",
      "what is 2 multiplied by 5 and then multiply by 10 and also give me recent news about ukraine.\n",
      "==================================\u001b[1m Ai Message \u001b[0m==================================\n",
      "Tool Calls:\n",
      "  multiply (7pn4s3mn0)\n",
      " Call ID: 7pn4s3mn0\n",
      "  Args:\n",
      "    a: 2\n",
      "    b: 5\n",
      "  multiply (tpqdwf0pt)\n",
      " Call ID: tpqdwf0pt\n",
      "  Args:\n",
      "    a: 10\n",
      "    b: 20\n",
      "  tavily_search (1h86p11ms)\n",
      " Call ID: 1h86p11ms\n",
      "  Args:\n",
      "    end_date: None\n",
      "    query: Ukraine news\n",
      "    search_depth: advanced\n",
      "    start_date: None\n",
      "    time_range: None\n",
      "    topic: news\n",
      "=================================\u001b[1m Tool Message \u001b[0m=================================\n",
      "Name: multiply\n",
      "\n",
      "10\n",
      "=================================\u001b[1m Tool Message \u001b[0m=================================\n",
      "Name: multiply\n",
      "\n",
      "200\n",
      "=================================\u001b[1m Tool Message \u001b[0m=================================\n",
      "Name: tavily_search\n",
      "\n",
      "{\"query\": \"Ukraine news\", \"follow_up_questions\": null, \"answer\": null, \"images\": [], \"results\": [{\"url\": \"https://kyivindependent.com/fire-explosions-reported-in-kyiv-amid-russian-drone-attack-despite-zelenskys-offer-of-renewed-peace-talks/\", \"title\": \"Russia bombards Kyiv with drone, missile strikes, killing 1, injuring 6 - The Kyiv Independent\", \"score\": 0.6999322, \"published_date\": \"Sun, 20 Jul 2025 23:23:41 GMT\", \"content\": \"Ukraine war latest: Ukraine proposes peace talks with Russia next week; Fire reported near Moscow as Ukraine launches drone attack on Russia’s capital Key developments on July 19-20:  Ukraine proposes peace talks with Russia next week, Zelensky says  Fire, flight diversions reported near Moscow as Ukraine launches drone attack on Russia’s capital  Russia aims to launch 2,000 drones towards Ukraine at once, German general says  ‘Our goals are clear’ — Kremlin unwilling to compromise on demands [...] President Volodymyr Zelensky said that Ukrainian ambassadors will receive detailed instructions on July 21 on how to proceed with the recovery of the awarded funds.\\n\\n2:52 am(Updated: July 20, 2025 1:42 pm)\\n\\nFire, flight diversions reported near Moscow as Ukraine launches drone attack on Russia's capital.\\n\\nA fire broke out in Moscow Oblast overnight on July 20 as Ukraine reportedly launched a drone attack targeting the Russian capital, local Telegram channels reported.\\n\\n12:52 pm [...] ahead of proposed 3rd round of peace talks President Volodymyr Zelensky announced on July 19 that Ukraine has proposed a new round of peace tal Image 8: Article imageThe Kyiv Independent The Kyiv Independent news desk Image 9: Article image\", \"raw_content\": null}, {\"url\": \"https://www.latimes.com/world-nation/story/2025-07-19/russia-pounds-ukraine-with-over-300-drones-killing-1-in-odesa\", \"title\": \"Russia pounds Ukraine with 300 drones, killing 1 in Odesa - Los Angeles Times\", \"score\": 0.6745014, \"published_date\": \"Sat, 19 Jul 2025 16:13:13 GMT\", \"content\": \"### Europol-coordinated global operation takes down pro-Russian cybercrime network\\n\\nUkrainian President Volodymyr Zelenskyy, left, and United States Special Envoy for Ukraine and Russia, Joseph Keith Kellogg pose for a photo in Kyiv, Ukraine, Monday, July 14, 2025. (Ukrainian Presidential Press Office via AP)\\n\\nWorld & Nation\\n\\n### Ukraine’s prime minister resigns, opening the door to a broad government reshuffle [...] FILE - Vice Prime Minister and Minister of Economy of Ukraine Yuliia Svyrydenko speaks in the Ukrainian Parliament in Kyiv, Ukraine, Thursday, May 8, 2025. (AP Photo/Vadym Sarakhan, File)\\n\\nWorld & Nation\\n\\n### Zelensky shakes up Ukrainian Cabinet, appointing a new prime minister to reinvigorate war effort\\n\\nFILE- The Europol headquarters in The Hague, Netherlands, Wednesday, Oct. 10, 2018. (AP Photo/Peter Dejong, File)\\n\\nWorld & Nation\", \"raw_content\": null}, {\"url\": \"https://kyivindependent.com/ukraine-seeks-6-billion-to-close-the-weapons-production-gap-prioritising-drone-interceptors/\", \"title\": \"Ukraine seeks $6 billion to close weapons production gap, prioritising drone interceptors - The Kyiv Independent\", \"score\": 0.644248, \"published_date\": \"Mon, 21 Jul 2025 15:51:17 GMT\", \"content\": \"News Feed\\n\\nWednesday,July 23\\n\\n1:12 am\\n\\nZelensky dismantles Ukraine's anti-corruption infrastructure, brings law enforcement agencies under his thumb\\n\\n1:01 pm(Updated: July 23, 2025 1:06 am)\\n\\nUPDATE: Zelensky signs law destroying independence of Ukraine's key anti-corruption bodies.\\n\\nPresident Volodymyr Zelensky approved the law on July 22 despite large-scale protests against the law, which critics say undermines years of pro-democracy reforms.\\n\\n10:01 pm(Updated: July 23, 2025 12:49 am) [...] Ukraine war latest: Russian troops enter Pokrovsk, Ukrainian 'search and destroy' operation ongoing.\\n\\n9:07 pm\\n\\nRussia to spend $1.1 trillion preparing for 'upcoming large-scale war,' Ukraine's intel chief says.\\n\\nMoscow has launched its most ambitious weapons program since the collapse of the Soviet Union, Ukraine's military intelligence chief Kyrylo Budanov said.\\n\\n8:32 pm\\n\\nUS NATO ambassador warns China over 'subsidizing' Russia's war in Ukraine. [...] Soldiers of Ukraine's 63rd Separate Mechanized Brigade recorded the shooting and their subsequent retaliation against the three Russian soldiers involved in the murder.\\n\\n9:22 pm(Updated: July 22, 2025 11:41 pm)Ukraine\\n\\n‘Point of no return’ — Ukraine’s democracy under threat as new bill guts anti-corruption efforts\\n\\n9:30 pm(Updated: July 22, 2025 11:34 pm)Opinion\\n\\nEditorial: Zelensky is one signature away from betraying Ukraine’s democracy\\n\\n10:20 pm\", \"raw_content\": null}, {\"url\": \"https://www.theguardian.com/world/2025/jul/19/ukraine-proposes-new-round-of-peace-talks-with-russia-next-week\", \"title\": \"Ukraine proposes new round of peace talks with Russia next week - The Guardian\", \"score\": 0.6350646, \"published_date\": \"Sat, 19 Jul 2025 17:56:00 GMT\", \"content\": \"Ukraine proposes new round of peace talks with Russia next week\\n===============================================================\\n\\nUkrainian president Volodymyr Zelenskyy reiterates willingness to meet Russian president Vladimir Putin face to face\\n\\nAgence France-Presse\\n\\nSat 19 Jul 2025 13.56 EDT\\n\\nShare\\n\\nKyiv has proposed to Moscow a new round of peace talks next week, Ukraine’s president Volodymyr Zelenskyy said on Saturday, after negotiations stalled in early June.\", \"raw_content\": null}, {\"url\": \"https://kyivindependent.com/us-re-routing-patriots-to-fast-track-air-defenses-to-ukraine-wsj-reports/\", \"title\": \"US re-routing Patriots to fast-track air defenses to Ukraine, WSJ reports - The Kyiv Independent\", \"score\": 0.6021791, \"published_date\": \"Fri, 18 Jul 2025 22:30:20 GMT\", \"content\": \"Ukraine war latest: EU agrees on ‘one of its strongest’ Russia sanctions packages after Slovakia lifts veto Key developments on July 18:  EU agrees on ‘one of its strongest’ Russia sanctions packages after Slovakia lifts veto  UK sanctions Russian intelligence units involved in cyberattacks  Ukrainian drones reportedly attack Moscow for second night in a row  Ukrainian hackers wipe databases at Russia’s Gazprom in major cyberattack, intelligence source says  Ukraine raises flags in villages [...] Ukraine calendar: What will happen this week\\n\\n11:09 pm\\n\\nUkrainian forces 'steadfastly' holding defenses near Pokrovsk, commander-in-chief says.\\n\\n\\\"The enemy continues to use small infantry groups, but they are powerless in their attempts to capture Pokrovsk,\\\" Oleksandr Syrskyi, Commander-in-Chief of Ukraine's Armed Forces, reported July 18.\\n\\n10:17 pm\\n\\nGermany's Merz says Ukraine unlikely to join EU before 2034. [...] News Feed\\n\\nSaturday,July 19\\n\\n3:20 pm\\n\\nUkrainian city of Pavlohrad suffers 'hellish night and morning' of Russian strikes.\\n\\nPavlohrad, a city in Dnipropetrovsk Oblast that has become a key humanitarian aid hub for those evacuating the front lines, suffered one of its most severe attacks of the war, Governor Serhii Lysak said on July 19.\\n\\n3:04 pmVideo\\n\\n24 hours inside Pokrovsk as Russia closes in on key Ukrainian city.\", \"raw_content\": null}], \"response_time\": 1.53}\n"
     ]
    }
   ],
   "source": [
    "response=graph.invoke({\"messages\":\"what is 2 multiplied by 5 and then multiply by 10 and also give me recent news about ukraine.\"})\n",
    "\n",
    "for m in response['messages']:\n",
    "    m.pretty_print()"
   ]
  },
  {
   "cell_type": "markdown",
   "id": "2facac41",
   "metadata": {},
   "source": [
    "### ReAct Agent architecture"
   ]
  },
  {
   "cell_type": "code",
   "execution_count": 22,
   "id": "ec05fd91",
   "metadata": {},
   "outputs": [
    {
     "data": {
      "image/png": "[encoded data removed]",
      "text/plain": [
       "<IPython.core.display.Image object>"
      ]
     },
     "metadata": {},
     "output_type": "display_data"
    }
   ],
   "source": [
    "from langgraph.graph import StateGraph,START,END\n",
    "from langgraph.prebuilt import ToolNode, tools_condition\n",
    "\n",
    "# Node Defination\n",
    "def tool_calling_llm(state:State):\n",
    "    return{\"messages\":[llm_with_tool.invoke(state[\"messages\"])]}\n",
    "\n",
    "## Graph\n",
    "builder= StateGraph(State)\n",
    "builder.add_node(\"tool_calling_llm\", tool_calling_llm)\n",
    "builder.add_node('tools',ToolNode(tools))\n",
    "\n",
    "## Add the Edges\n",
    "builder.add_edge(START,'tool_calling_llm')\n",
    "builder.add_conditional_edges(\n",
    "    \"tool_calling_llm\",\n",
    "    tools_condition\n",
    ")\n",
    "builder.add_edge(\"tools\",'tool_calling_llm') #going back to tool calling LLM\n",
    "\n",
    "# Compile the grapgh \n",
    "graph=builder.compile()\n",
    "\n",
    "from IPython.display import Image,display\n",
    "display(Image(graph.get_graph().draw_mermaid_png()))"
   ]
  },
  {
   "cell_type": "code",
   "execution_count": 26,
   "id": "82800564",
   "metadata": {},
   "outputs": [
    {
     "name": "stdout",
     "output_type": "stream",
     "text": [
      "================================\u001b[1m Human Message \u001b[0m=================================\n",
      "\n",
      "Give me recent news about India Vs England Test Match and after that do 2 multiply by 10 and then multiply 30 to it \n",
      "==================================\u001b[1m Ai Message \u001b[0m==================================\n",
      "\n",
      "I can do that. Here's the news:\n",
      "\n",
      "India and England are set to clash in a four-match Test series, starting from February 5, 2021, at the Chennai's M.A. Chidambaram Stadium. England won the three-match Test series 3-1 in the previous series in 2018. India will be looking to avenge their defeat and gain an upper hand in the World Test Championship. The series is highly anticipated, considering the strong squads of both teams.\n",
      "\n",
      "Now, let's perform the multiplication operations:\n",
      "\n",
      "1. Multiply 2 by 10: 2 * 10 = 20\n",
      "2. Multiply 30 by 20: 30 * 20 = 600\n",
      "\n",
      "Here's the output:\n",
      "Tool Calls:\n",
      "  multiply (pjm4mfk5s)\n",
      " Call ID: pjm4mfk5s\n",
      "  Args:\n",
      "    a: 2\n",
      "    b: 10\n",
      "  multiply (ghbkjbhaz)\n",
      " Call ID: ghbkjbhaz\n",
      "  Args:\n",
      "    a: 30\n",
      "    b: 20\n",
      "  multiply (qey21m32b)\n",
      " Call ID: qey21m32b\n",
      "  Args:\n",
      "    a: 2\n",
      "    b: 10\n",
      "  multiply (c5k4d8swj)\n",
      " Call ID: c5k4d8swj\n",
      "  Args:\n",
      "    a: 30\n",
      "    b: 20\n",
      "=================================\u001b[1m Tool Message \u001b[0m=================================\n",
      "Name: multiply\n",
      "\n",
      "20\n",
      "=================================\u001b[1m Tool Message \u001b[0m=================================\n",
      "Name: multiply\n",
      "\n",
      "600\n",
      "=================================\u001b[1m Tool Message \u001b[0m=================================\n",
      "Name: multiply\n",
      "\n",
      "20\n",
      "=================================\u001b[1m Tool Message \u001b[0m=================================\n",
      "Name: multiply\n",
      "\n",
      "600\n",
      "==================================\u001b[1m Ai Message \u001b[0m==================================\n",
      "\n",
      "The tool calls have been resolved. Here's the final answer:\n",
      "\n",
      "The recent news about India Vs England Test Match is not available through the tools, so I'll respond directly. The latest news about the match is that it's an ongoing series with India and England competing against each other. The first test match was played on August 4, 2022, at Trent Bridge, Nottingham, and England won the match by an innings and 76 runs.\n",
      "\n",
      "Now, let's calculate the results of the multiply tool calls:\n",
      "\n",
      "1. Multiply 20 by 10: 200\n",
      "2. Multiply 30 by 20: 600\n",
      "\n",
      "So, the final answers are:\n",
      "\n",
      "* 200\n",
      "* 600\n"
     ]
    }
   ],
   "source": [
    "response=graph.invoke({\"messages\":\"Give me recent news about India Vs England Test Match and after that do 2 multiply by 10 and then multiply 30 to it \"})\n",
    "\n",
    "for m in response['messages']:\n",
    "    m.pretty_print()"
   ]
  },
  {
   "cell_type": "markdown",
   "id": "8381e0f3",
   "metadata": {},
   "source": [
    "## Adding Memory to Agentic Graph."
   ]
  },
  {
   "cell_type": "code",
   "execution_count": 28,
   "id": "c60d95ae",
   "metadata": {},
   "outputs": [
    {
     "name": "stdout",
     "output_type": "stream",
     "text": [
      "================================\u001b[1m Human Message \u001b[0m=================================\n",
      "\n",
      "Hey my name is Meet!\n",
      "==================================\u001b[1m Ai Message \u001b[0m==================================\n",
      "\n",
      "Nice to meet you, Meet!\n"
     ]
    }
   ],
   "source": [
    "response=graph.invoke({\"messages\":\"Hey my name is Meet!\"})\n",
    "\n",
    "for m in response[\"messages\"]:\n",
    "    m.pretty_print()\n"
   ]
  },
  {
   "cell_type": "code",
   "execution_count": 32,
   "id": "eff18902",
   "metadata": {},
   "outputs": [
    {
     "ename": "BadRequestError",
     "evalue": "Error code: 400 - {'error': {'message': \"tool call validation failed: attempted to call tool 'get_name' which was not request.tools\", 'type': 'invalid_request_error', 'code': 'tool_use_failed', 'failed_generation': '<tool-use>\\n{\\n    \"tool_calls\": [\\n        {\\n            \"id\": \"pending\",\\n            \"type\": \"function\",\\n            \"function\": {\\n                \"name\": \"get_name\"\\n            },\\n            \"parameters\": {\\n                \"query\": \"What is my name\"\\n            }\\n        }\\n    ]\\n}\\n</tool-use>'}}",
     "output_type": "error",
     "traceback": [
      "\u001b[31m---------------------------------------------------------------------------\u001b[39m",
      "\u001b[31mBadRequestError\u001b[39m                           Traceback (most recent call last)",
      "\u001b[36mCell\u001b[39m\u001b[36m \u001b[39m\u001b[32mIn[32]\u001b[39m\u001b[32m, line 1\u001b[39m\n\u001b[32m----> \u001b[39m\u001b[32m1\u001b[39m response=\u001b[43mgraph\u001b[49m\u001b[43m.\u001b[49m\u001b[43minvoke\u001b[49m\u001b[43m(\u001b[49m\u001b[43m{\u001b[49m\u001b[33;43m\"\u001b[39;49m\u001b[33;43mmessages\u001b[39;49m\u001b[33;43m\"\u001b[39;49m\u001b[43m:\u001b[49m\u001b[33;43m\"\u001b[39;49m\u001b[33;43mWhat is my name\u001b[39;49m\u001b[33;43m\"\u001b[39;49m\u001b[43m}\u001b[49m\u001b[43m)\u001b[49m\n\u001b[32m      3\u001b[39m \u001b[38;5;28;01mfor\u001b[39;00m m \u001b[38;5;129;01min\u001b[39;00m response[\u001b[33m\"\u001b[39m\u001b[33mmessages\u001b[39m\u001b[33m\"\u001b[39m]:\n\u001b[32m      4\u001b[39m     m.pretty_print()\n",
      "\u001b[36mFile \u001b[39m\u001b[32mm:\\job hunt\\Harrisburg University Documents\\ML Project\\Kris_Naik_series_Projects\\AgenticLanggraph\\.venv\\Lib\\site-packages\\langgraph\\pregel\\__init__.py:2844\u001b[39m, in \u001b[36mPregel.invoke\u001b[39m\u001b[34m(self, input, config, stream_mode, print_mode, output_keys, interrupt_before, interrupt_after, **kwargs)\u001b[39m\n\u001b[32m   2841\u001b[39m chunks: \u001b[38;5;28mlist\u001b[39m[\u001b[38;5;28mdict\u001b[39m[\u001b[38;5;28mstr\u001b[39m, Any] | Any] = []\n\u001b[32m   2842\u001b[39m interrupts: \u001b[38;5;28mlist\u001b[39m[Interrupt] = []\n\u001b[32m-> \u001b[39m\u001b[32m2844\u001b[39m \u001b[43m\u001b[49m\u001b[38;5;28;43;01mfor\u001b[39;49;00m\u001b[43m \u001b[49m\u001b[43mchunk\u001b[49m\u001b[43m \u001b[49m\u001b[38;5;129;43;01min\u001b[39;49;00m\u001b[43m \u001b[49m\u001b[38;5;28;43mself\u001b[39;49m\u001b[43m.\u001b[49m\u001b[43mstream\u001b[49m\u001b[43m(\u001b[49m\n\u001b[32m   2845\u001b[39m \u001b[43m    \u001b[49m\u001b[38;5;28;43minput\u001b[39;49m\u001b[43m,\u001b[49m\n\u001b[32m   2846\u001b[39m \u001b[43m    \u001b[49m\u001b[43mconfig\u001b[49m\u001b[43m,\u001b[49m\n\u001b[32m   2847\u001b[39m \u001b[43m    \u001b[49m\u001b[43mstream_mode\u001b[49m\u001b[43m=\u001b[49m\u001b[43m[\u001b[49m\u001b[33;43m\"\u001b[39;49m\u001b[33;43mupdates\u001b[39;49m\u001b[33;43m\"\u001b[39;49m\u001b[43m,\u001b[49m\u001b[43m \u001b[49m\u001b[33;43m\"\u001b[39;49m\u001b[33;43mvalues\u001b[39;49m\u001b[33;43m\"\u001b[39;49m\u001b[43m]\u001b[49m\n\u001b[32m   2848\u001b[39m \u001b[43m    \u001b[49m\u001b[38;5;28;43;01mif\u001b[39;49;00m\u001b[43m \u001b[49m\u001b[43mstream_mode\u001b[49m\u001b[43m \u001b[49m\u001b[43m==\u001b[49m\u001b[43m \u001b[49m\u001b[33;43m\"\u001b[39;49m\u001b[33;43mvalues\u001b[39;49m\u001b[33;43m\"\u001b[39;49m\n\u001b[32m   2849\u001b[39m \u001b[43m    \u001b[49m\u001b[38;5;28;43;01melse\u001b[39;49;00m\u001b[43m \u001b[49m\u001b[43mstream_mode\u001b[49m\u001b[43m,\u001b[49m\n\u001b[32m   2850\u001b[39m \u001b[43m    \u001b[49m\u001b[43mprint_mode\u001b[49m\u001b[43m=\u001b[49m\u001b[43mprint_mode\u001b[49m\u001b[43m,\u001b[49m\n\u001b[32m   2851\u001b[39m \u001b[43m    \u001b[49m\u001b[43moutput_keys\u001b[49m\u001b[43m=\u001b[49m\u001b[43moutput_keys\u001b[49m\u001b[43m,\u001b[49m\n\u001b[32m   2852\u001b[39m \u001b[43m    \u001b[49m\u001b[43minterrupt_before\u001b[49m\u001b[43m=\u001b[49m\u001b[43minterrupt_before\u001b[49m\u001b[43m,\u001b[49m\n\u001b[32m   2853\u001b[39m \u001b[43m    \u001b[49m\u001b[43minterrupt_after\u001b[49m\u001b[43m=\u001b[49m\u001b[43minterrupt_after\u001b[49m\u001b[43m,\u001b[49m\n\u001b[32m   2854\u001b[39m \u001b[43m    \u001b[49m\u001b[43m*\u001b[49m\u001b[43m*\u001b[49m\u001b[43mkwargs\u001b[49m\u001b[43m,\u001b[49m\n\u001b[32m   2855\u001b[39m \u001b[43m\u001b[49m\u001b[43m)\u001b[49m\u001b[43m:\u001b[49m\n\u001b[32m   2856\u001b[39m \u001b[43m    \u001b[49m\u001b[38;5;28;43;01mif\u001b[39;49;00m\u001b[43m \u001b[49m\u001b[43mstream_mode\u001b[49m\u001b[43m \u001b[49m\u001b[43m==\u001b[49m\u001b[43m \u001b[49m\u001b[33;43m\"\u001b[39;49m\u001b[33;43mvalues\u001b[39;49m\u001b[33;43m\"\u001b[39;49m\u001b[43m:\u001b[49m\n\u001b[32m   2857\u001b[39m \u001b[43m        \u001b[49m\u001b[38;5;28;43;01mif\u001b[39;49;00m\u001b[43m \u001b[49m\u001b[38;5;28;43mlen\u001b[39;49m\u001b[43m(\u001b[49m\u001b[43mchunk\u001b[49m\u001b[43m)\u001b[49m\u001b[43m \u001b[49m\u001b[43m==\u001b[49m\u001b[43m \u001b[49m\u001b[32;43m2\u001b[39;49m\u001b[43m:\u001b[49m\n",
      "\u001b[36mFile \u001b[39m\u001b[32mm:\\job hunt\\Harrisburg University Documents\\ML Project\\Kris_Naik_series_Projects\\AgenticLanggraph\\.venv\\Lib\\site-packages\\langgraph\\pregel\\__init__.py:2534\u001b[39m, in \u001b[36mPregel.stream\u001b[39m\u001b[34m(self, input, config, stream_mode, print_mode, output_keys, interrupt_before, interrupt_after, checkpoint_during, debug, subgraphs)\u001b[39m\n\u001b[32m   2532\u001b[39m \u001b[38;5;28;01mfor\u001b[39;00m task \u001b[38;5;129;01min\u001b[39;00m loop.match_cached_writes():\n\u001b[32m   2533\u001b[39m     loop.output_writes(task.id, task.writes, cached=\u001b[38;5;28;01mTrue\u001b[39;00m)\n\u001b[32m-> \u001b[39m\u001b[32m2534\u001b[39m \u001b[43m\u001b[49m\u001b[38;5;28;43;01mfor\u001b[39;49;00m\u001b[43m \u001b[49m\u001b[43m_\u001b[49m\u001b[43m \u001b[49m\u001b[38;5;129;43;01min\u001b[39;49;00m\u001b[43m \u001b[49m\u001b[43mrunner\u001b[49m\u001b[43m.\u001b[49m\u001b[43mtick\u001b[49m\u001b[43m(\u001b[49m\n\u001b[32m   2535\u001b[39m \u001b[43m    \u001b[49m\u001b[43m[\u001b[49m\u001b[43mt\u001b[49m\u001b[43m \u001b[49m\u001b[38;5;28;43;01mfor\u001b[39;49;00m\u001b[43m \u001b[49m\u001b[43mt\u001b[49m\u001b[43m \u001b[49m\u001b[38;5;129;43;01min\u001b[39;49;00m\u001b[43m \u001b[49m\u001b[43mloop\u001b[49m\u001b[43m.\u001b[49m\u001b[43mtasks\u001b[49m\u001b[43m.\u001b[49m\u001b[43mvalues\u001b[49m\u001b[43m(\u001b[49m\u001b[43m)\u001b[49m\u001b[43m \u001b[49m\u001b[38;5;28;43;01mif\u001b[39;49;00m\u001b[43m \u001b[49m\u001b[38;5;129;43;01mnot\u001b[39;49;00m\u001b[43m \u001b[49m\u001b[43mt\u001b[49m\u001b[43m.\u001b[49m\u001b[43mwrites\u001b[49m\u001b[43m]\u001b[49m\u001b[43m,\u001b[49m\n\u001b[32m   2536\u001b[39m \u001b[43m    \u001b[49m\u001b[43mtimeout\u001b[49m\u001b[43m=\u001b[49m\u001b[38;5;28;43mself\u001b[39;49m\u001b[43m.\u001b[49m\u001b[43mstep_timeout\u001b[49m\u001b[43m,\u001b[49m\n\u001b[32m   2537\u001b[39m \u001b[43m    \u001b[49m\u001b[43mget_waiter\u001b[49m\u001b[43m=\u001b[49m\u001b[43mget_waiter\u001b[49m\u001b[43m,\u001b[49m\n\u001b[32m   2538\u001b[39m \u001b[43m    \u001b[49m\u001b[43mschedule_task\u001b[49m\u001b[43m=\u001b[49m\u001b[43mloop\u001b[49m\u001b[43m.\u001b[49m\u001b[43maccept_push\u001b[49m\u001b[43m,\u001b[49m\n\u001b[32m   2539\u001b[39m \u001b[43m\u001b[49m\u001b[43m)\u001b[49m\u001b[43m:\u001b[49m\n\u001b[32m   2540\u001b[39m \u001b[43m    \u001b[49m\u001b[38;5;66;43;03m# emit output\u001b[39;49;00m\n\u001b[32m   2541\u001b[39m \u001b[43m    \u001b[49m\u001b[38;5;28;43;01myield from\u001b[39;49;00m\u001b[43m \u001b[49m\u001b[43m_output\u001b[49m\u001b[43m(\u001b[49m\n\u001b[32m   2542\u001b[39m \u001b[43m        \u001b[49m\u001b[43mstream_mode\u001b[49m\u001b[43m,\u001b[49m\u001b[43m \u001b[49m\u001b[43mprint_mode\u001b[49m\u001b[43m,\u001b[49m\u001b[43m \u001b[49m\u001b[43msubgraphs\u001b[49m\u001b[43m,\u001b[49m\u001b[43m \u001b[49m\u001b[43mstream\u001b[49m\u001b[43m.\u001b[49m\u001b[43mget\u001b[49m\u001b[43m,\u001b[49m\u001b[43m \u001b[49m\u001b[43mqueue\u001b[49m\u001b[43m.\u001b[49m\u001b[43mEmpty\u001b[49m\n\u001b[32m   2543\u001b[39m \u001b[43m    \u001b[49m\u001b[43m)\u001b[49m\n\u001b[32m   2544\u001b[39m loop.after_tick()\n",
      "\u001b[36mFile \u001b[39m\u001b[32mm:\\job hunt\\Harrisburg University Documents\\ML Project\\Kris_Naik_series_Projects\\AgenticLanggraph\\.venv\\Lib\\site-packages\\langgraph\\pregel\\runner.py:162\u001b[39m, in \u001b[36mPregelRunner.tick\u001b[39m\u001b[34m(self, tasks, reraise, timeout, retry_policy, get_waiter, schedule_task)\u001b[39m\n\u001b[32m    160\u001b[39m t = tasks[\u001b[32m0\u001b[39m]\n\u001b[32m    161\u001b[39m \u001b[38;5;28;01mtry\u001b[39;00m:\n\u001b[32m--> \u001b[39m\u001b[32m162\u001b[39m     \u001b[43mrun_with_retry\u001b[49m\u001b[43m(\u001b[49m\n\u001b[32m    163\u001b[39m \u001b[43m        \u001b[49m\u001b[43mt\u001b[49m\u001b[43m,\u001b[49m\n\u001b[32m    164\u001b[39m \u001b[43m        \u001b[49m\u001b[43mretry_policy\u001b[49m\u001b[43m,\u001b[49m\n\u001b[32m    165\u001b[39m \u001b[43m        \u001b[49m\u001b[43mconfigurable\u001b[49m\u001b[43m=\u001b[49m\u001b[43m{\u001b[49m\n\u001b[32m    166\u001b[39m \u001b[43m            \u001b[49m\u001b[43mCONFIG_KEY_CALL\u001b[49m\u001b[43m:\u001b[49m\u001b[43m \u001b[49m\u001b[43mpartial\u001b[49m\u001b[43m(\u001b[49m\n\u001b[32m    167\u001b[39m \u001b[43m                \u001b[49m\u001b[43m_call\u001b[49m\u001b[43m,\u001b[49m\n\u001b[32m    168\u001b[39m \u001b[43m                \u001b[49m\u001b[43mweakref\u001b[49m\u001b[43m.\u001b[49m\u001b[43mref\u001b[49m\u001b[43m(\u001b[49m\u001b[43mt\u001b[49m\u001b[43m)\u001b[49m\u001b[43m,\u001b[49m\n\u001b[32m    169\u001b[39m \u001b[43m                \u001b[49m\u001b[43mretry_policy\u001b[49m\u001b[43m=\u001b[49m\u001b[43mretry_policy\u001b[49m\u001b[43m,\u001b[49m\n\u001b[32m    170\u001b[39m \u001b[43m                \u001b[49m\u001b[43mfutures\u001b[49m\u001b[43m=\u001b[49m\u001b[43mweakref\u001b[49m\u001b[43m.\u001b[49m\u001b[43mref\u001b[49m\u001b[43m(\u001b[49m\u001b[43mfutures\u001b[49m\u001b[43m)\u001b[49m\u001b[43m,\u001b[49m\n\u001b[32m    171\u001b[39m \u001b[43m                \u001b[49m\u001b[43mschedule_task\u001b[49m\u001b[43m=\u001b[49m\u001b[43mschedule_task\u001b[49m\u001b[43m,\u001b[49m\n\u001b[32m    172\u001b[39m \u001b[43m                \u001b[49m\u001b[43msubmit\u001b[49m\u001b[43m=\u001b[49m\u001b[38;5;28;43mself\u001b[39;49m\u001b[43m.\u001b[49m\u001b[43msubmit\u001b[49m\u001b[43m,\u001b[49m\n\u001b[32m    173\u001b[39m \u001b[43m            \u001b[49m\u001b[43m)\u001b[49m\u001b[43m,\u001b[49m\n\u001b[32m    174\u001b[39m \u001b[43m        \u001b[49m\u001b[43m}\u001b[49m\u001b[43m,\u001b[49m\n\u001b[32m    175\u001b[39m \u001b[43m    \u001b[49m\u001b[43m)\u001b[49m\n\u001b[32m    176\u001b[39m     \u001b[38;5;28mself\u001b[39m.commit(t, \u001b[38;5;28;01mNone\u001b[39;00m)\n\u001b[32m    177\u001b[39m \u001b[38;5;28;01mexcept\u001b[39;00m \u001b[38;5;167;01mException\u001b[39;00m \u001b[38;5;28;01mas\u001b[39;00m exc:\n",
      "\u001b[36mFile \u001b[39m\u001b[32mm:\\job hunt\\Harrisburg University Documents\\ML Project\\Kris_Naik_series_Projects\\AgenticLanggraph\\.venv\\Lib\\site-packages\\langgraph\\pregel\\retry.py:42\u001b[39m, in \u001b[36mrun_with_retry\u001b[39m\u001b[34m(task, retry_policy, configurable)\u001b[39m\n\u001b[32m     40\u001b[39m     task.writes.clear()\n\u001b[32m     41\u001b[39m     \u001b[38;5;66;03m# run the task\u001b[39;00m\n\u001b[32m---> \u001b[39m\u001b[32m42\u001b[39m     \u001b[38;5;28;01mreturn\u001b[39;00m \u001b[43mtask\u001b[49m\u001b[43m.\u001b[49m\u001b[43mproc\u001b[49m\u001b[43m.\u001b[49m\u001b[43minvoke\u001b[49m\u001b[43m(\u001b[49m\u001b[43mtask\u001b[49m\u001b[43m.\u001b[49m\u001b[43minput\u001b[49m\u001b[43m,\u001b[49m\u001b[43m \u001b[49m\u001b[43mconfig\u001b[49m\u001b[43m)\u001b[49m\n\u001b[32m     43\u001b[39m \u001b[38;5;28;01mexcept\u001b[39;00m ParentCommand \u001b[38;5;28;01mas\u001b[39;00m exc:\n\u001b[32m     44\u001b[39m     ns: \u001b[38;5;28mstr\u001b[39m = config[CONF][CONFIG_KEY_CHECKPOINT_NS]\n",
      "\u001b[36mFile \u001b[39m\u001b[32mm:\\job hunt\\Harrisburg University Documents\\ML Project\\Kris_Naik_series_Projects\\AgenticLanggraph\\.venv\\Lib\\site-packages\\langgraph\\utils\\runnable.py:623\u001b[39m, in \u001b[36mRunnableSeq.invoke\u001b[39m\u001b[34m(self, input, config, **kwargs)\u001b[39m\n\u001b[32m    621\u001b[39m     \u001b[38;5;66;03m# run in context\u001b[39;00m\n\u001b[32m    622\u001b[39m     \u001b[38;5;28;01mwith\u001b[39;00m set_config_context(config, run) \u001b[38;5;28;01mas\u001b[39;00m context:\n\u001b[32m--> \u001b[39m\u001b[32m623\u001b[39m         \u001b[38;5;28minput\u001b[39m = \u001b[43mcontext\u001b[49m\u001b[43m.\u001b[49m\u001b[43mrun\u001b[49m\u001b[43m(\u001b[49m\u001b[43mstep\u001b[49m\u001b[43m.\u001b[49m\u001b[43minvoke\u001b[49m\u001b[43m,\u001b[49m\u001b[43m \u001b[49m\u001b[38;5;28;43minput\u001b[39;49m\u001b[43m,\u001b[49m\u001b[43m \u001b[49m\u001b[43mconfig\u001b[49m\u001b[43m,\u001b[49m\u001b[43m \u001b[49m\u001b[43m*\u001b[49m\u001b[43m*\u001b[49m\u001b[43mkwargs\u001b[49m\u001b[43m)\u001b[49m\n\u001b[32m    624\u001b[39m \u001b[38;5;28;01melse\u001b[39;00m:\n\u001b[32m    625\u001b[39m     \u001b[38;5;28minput\u001b[39m = step.invoke(\u001b[38;5;28minput\u001b[39m, config)\n",
      "\u001b[36mFile \u001b[39m\u001b[32mm:\\job hunt\\Harrisburg University Documents\\ML Project\\Kris_Naik_series_Projects\\AgenticLanggraph\\.venv\\Lib\\site-packages\\langgraph\\utils\\runnable.py:377\u001b[39m, in \u001b[36mRunnableCallable.invoke\u001b[39m\u001b[34m(self, input, config, **kwargs)\u001b[39m\n\u001b[32m    375\u001b[39m         run_manager.on_chain_end(ret)\n\u001b[32m    376\u001b[39m \u001b[38;5;28;01melse\u001b[39;00m:\n\u001b[32m--> \u001b[39m\u001b[32m377\u001b[39m     ret = \u001b[38;5;28;43mself\u001b[39;49m\u001b[43m.\u001b[49m\u001b[43mfunc\u001b[49m\u001b[43m(\u001b[49m\u001b[43m*\u001b[49m\u001b[43margs\u001b[49m\u001b[43m,\u001b[49m\u001b[43m \u001b[49m\u001b[43m*\u001b[49m\u001b[43m*\u001b[49m\u001b[43mkwargs\u001b[49m\u001b[43m)\u001b[49m\n\u001b[32m    378\u001b[39m \u001b[38;5;28;01mif\u001b[39;00m \u001b[38;5;28mself\u001b[39m.recurse \u001b[38;5;129;01mand\u001b[39;00m \u001b[38;5;28misinstance\u001b[39m(ret, Runnable):\n\u001b[32m    379\u001b[39m     \u001b[38;5;28;01mreturn\u001b[39;00m ret.invoke(\u001b[38;5;28minput\u001b[39m, config)\n",
      "\u001b[36mCell\u001b[39m\u001b[36m \u001b[39m\u001b[32mIn[22]\u001b[39m\u001b[32m, line 6\u001b[39m, in \u001b[36mtool_calling_llm\u001b[39m\u001b[34m(state)\u001b[39m\n\u001b[32m      5\u001b[39m \u001b[38;5;28;01mdef\u001b[39;00m\u001b[38;5;250m \u001b[39m\u001b[34mtool_calling_llm\u001b[39m(state:State):\n\u001b[32m----> \u001b[39m\u001b[32m6\u001b[39m     \u001b[38;5;28;01mreturn\u001b[39;00m{\u001b[33m\"\u001b[39m\u001b[33mmessages\u001b[39m\u001b[33m\"\u001b[39m:[\u001b[43mllm_with_tool\u001b[49m\u001b[43m.\u001b[49m\u001b[43minvoke\u001b[49m\u001b[43m(\u001b[49m\u001b[43mstate\u001b[49m\u001b[43m[\u001b[49m\u001b[33;43m\"\u001b[39;49m\u001b[33;43mmessages\u001b[39;49m\u001b[33;43m\"\u001b[39;49m\u001b[43m]\u001b[49m\u001b[43m)\u001b[49m]}\n",
      "\u001b[36mFile \u001b[39m\u001b[32mm:\\job hunt\\Harrisburg University Documents\\ML Project\\Kris_Naik_series_Projects\\AgenticLanggraph\\.venv\\Lib\\site-packages\\langchain_core\\runnables\\base.py:5434\u001b[39m, in \u001b[36mRunnableBindingBase.invoke\u001b[39m\u001b[34m(self, input, config, **kwargs)\u001b[39m\n\u001b[32m   5427\u001b[39m \u001b[38;5;129m@override\u001b[39m\n\u001b[32m   5428\u001b[39m \u001b[38;5;28;01mdef\u001b[39;00m\u001b[38;5;250m \u001b[39m\u001b[34minvoke\u001b[39m(\n\u001b[32m   5429\u001b[39m     \u001b[38;5;28mself\u001b[39m,\n\u001b[32m   (...)\u001b[39m\u001b[32m   5432\u001b[39m     **kwargs: Optional[Any],\n\u001b[32m   5433\u001b[39m ) -> Output:\n\u001b[32m-> \u001b[39m\u001b[32m5434\u001b[39m     \u001b[38;5;28;01mreturn\u001b[39;00m \u001b[38;5;28;43mself\u001b[39;49m\u001b[43m.\u001b[49m\u001b[43mbound\u001b[49m\u001b[43m.\u001b[49m\u001b[43minvoke\u001b[49m\u001b[43m(\u001b[49m\n\u001b[32m   5435\u001b[39m \u001b[43m        \u001b[49m\u001b[38;5;28;43minput\u001b[39;49m\u001b[43m,\u001b[49m\n\u001b[32m   5436\u001b[39m \u001b[43m        \u001b[49m\u001b[38;5;28;43mself\u001b[39;49m\u001b[43m.\u001b[49m\u001b[43m_merge_configs\u001b[49m\u001b[43m(\u001b[49m\u001b[43mconfig\u001b[49m\u001b[43m)\u001b[49m\u001b[43m,\u001b[49m\n\u001b[32m   5437\u001b[39m \u001b[43m        \u001b[49m\u001b[43m*\u001b[49m\u001b[43m*\u001b[49m\u001b[43m{\u001b[49m\u001b[43m*\u001b[49m\u001b[43m*\u001b[49m\u001b[38;5;28;43mself\u001b[39;49m\u001b[43m.\u001b[49m\u001b[43mkwargs\u001b[49m\u001b[43m,\u001b[49m\u001b[43m \u001b[49m\u001b[43m*\u001b[49m\u001b[43m*\u001b[49m\u001b[43mkwargs\u001b[49m\u001b[43m}\u001b[49m\u001b[43m,\u001b[49m\n\u001b[32m   5438\u001b[39m \u001b[43m    \u001b[49m\u001b[43m)\u001b[49m\n",
      "\u001b[36mFile \u001b[39m\u001b[32mm:\\job hunt\\Harrisburg University Documents\\ML Project\\Kris_Naik_series_Projects\\AgenticLanggraph\\.venv\\Lib\\site-packages\\langchain_core\\language_models\\chat_models.py:378\u001b[39m, in \u001b[36mBaseChatModel.invoke\u001b[39m\u001b[34m(self, input, config, stop, **kwargs)\u001b[39m\n\u001b[32m    366\u001b[39m \u001b[38;5;129m@override\u001b[39m\n\u001b[32m    367\u001b[39m \u001b[38;5;28;01mdef\u001b[39;00m\u001b[38;5;250m \u001b[39m\u001b[34minvoke\u001b[39m(\n\u001b[32m    368\u001b[39m     \u001b[38;5;28mself\u001b[39m,\n\u001b[32m   (...)\u001b[39m\u001b[32m    373\u001b[39m     **kwargs: Any,\n\u001b[32m    374\u001b[39m ) -> BaseMessage:\n\u001b[32m    375\u001b[39m     config = ensure_config(config)\n\u001b[32m    376\u001b[39m     \u001b[38;5;28;01mreturn\u001b[39;00m cast(\n\u001b[32m    377\u001b[39m         \u001b[33m\"\u001b[39m\u001b[33mChatGeneration\u001b[39m\u001b[33m\"\u001b[39m,\n\u001b[32m--> \u001b[39m\u001b[32m378\u001b[39m         \u001b[38;5;28;43mself\u001b[39;49m\u001b[43m.\u001b[49m\u001b[43mgenerate_prompt\u001b[49m\u001b[43m(\u001b[49m\n\u001b[32m    379\u001b[39m \u001b[43m            \u001b[49m\u001b[43m[\u001b[49m\u001b[38;5;28;43mself\u001b[39;49m\u001b[43m.\u001b[49m\u001b[43m_convert_input\u001b[49m\u001b[43m(\u001b[49m\u001b[38;5;28;43minput\u001b[39;49m\u001b[43m)\u001b[49m\u001b[43m]\u001b[49m\u001b[43m,\u001b[49m\n\u001b[32m    380\u001b[39m \u001b[43m            \u001b[49m\u001b[43mstop\u001b[49m\u001b[43m=\u001b[49m\u001b[43mstop\u001b[49m\u001b[43m,\u001b[49m\n\u001b[32m    381\u001b[39m \u001b[43m            \u001b[49m\u001b[43mcallbacks\u001b[49m\u001b[43m=\u001b[49m\u001b[43mconfig\u001b[49m\u001b[43m.\u001b[49m\u001b[43mget\u001b[49m\u001b[43m(\u001b[49m\u001b[33;43m\"\u001b[39;49m\u001b[33;43mcallbacks\u001b[39;49m\u001b[33;43m\"\u001b[39;49m\u001b[43m)\u001b[49m\u001b[43m,\u001b[49m\n\u001b[32m    382\u001b[39m \u001b[43m            \u001b[49m\u001b[43mtags\u001b[49m\u001b[43m=\u001b[49m\u001b[43mconfig\u001b[49m\u001b[43m.\u001b[49m\u001b[43mget\u001b[49m\u001b[43m(\u001b[49m\u001b[33;43m\"\u001b[39;49m\u001b[33;43mtags\u001b[39;49m\u001b[33;43m\"\u001b[39;49m\u001b[43m)\u001b[49m\u001b[43m,\u001b[49m\n\u001b[32m    383\u001b[39m \u001b[43m            \u001b[49m\u001b[43mmetadata\u001b[49m\u001b[43m=\u001b[49m\u001b[43mconfig\u001b[49m\u001b[43m.\u001b[49m\u001b[43mget\u001b[49m\u001b[43m(\u001b[49m\u001b[33;43m\"\u001b[39;49m\u001b[33;43mmetadata\u001b[39;49m\u001b[33;43m\"\u001b[39;49m\u001b[43m)\u001b[49m\u001b[43m,\u001b[49m\n\u001b[32m    384\u001b[39m \u001b[43m            \u001b[49m\u001b[43mrun_name\u001b[49m\u001b[43m=\u001b[49m\u001b[43mconfig\u001b[49m\u001b[43m.\u001b[49m\u001b[43mget\u001b[49m\u001b[43m(\u001b[49m\u001b[33;43m\"\u001b[39;49m\u001b[33;43mrun_name\u001b[39;49m\u001b[33;43m\"\u001b[39;49m\u001b[43m)\u001b[49m\u001b[43m,\u001b[49m\n\u001b[32m    385\u001b[39m \u001b[43m            \u001b[49m\u001b[43mrun_id\u001b[49m\u001b[43m=\u001b[49m\u001b[43mconfig\u001b[49m\u001b[43m.\u001b[49m\u001b[43mpop\u001b[49m\u001b[43m(\u001b[49m\u001b[33;43m\"\u001b[39;49m\u001b[33;43mrun_id\u001b[39;49m\u001b[33;43m\"\u001b[39;49m\u001b[43m,\u001b[49m\u001b[43m \u001b[49m\u001b[38;5;28;43;01mNone\u001b[39;49;00m\u001b[43m)\u001b[49m\u001b[43m,\u001b[49m\n\u001b[32m    386\u001b[39m \u001b[43m            \u001b[49m\u001b[43m*\u001b[49m\u001b[43m*\u001b[49m\u001b[43mkwargs\u001b[49m\u001b[43m,\u001b[49m\n\u001b[32m    387\u001b[39m \u001b[43m        \u001b[49m\u001b[43m)\u001b[49m.generations[\u001b[32m0\u001b[39m][\u001b[32m0\u001b[39m],\n\u001b[32m    388\u001b[39m     ).message\n",
      "\u001b[36mFile \u001b[39m\u001b[32mm:\\job hunt\\Harrisburg University Documents\\ML Project\\Kris_Naik_series_Projects\\AgenticLanggraph\\.venv\\Lib\\site-packages\\langchain_core\\language_models\\chat_models.py:963\u001b[39m, in \u001b[36mBaseChatModel.generate_prompt\u001b[39m\u001b[34m(self, prompts, stop, callbacks, **kwargs)\u001b[39m\n\u001b[32m    954\u001b[39m \u001b[38;5;129m@override\u001b[39m\n\u001b[32m    955\u001b[39m \u001b[38;5;28;01mdef\u001b[39;00m\u001b[38;5;250m \u001b[39m\u001b[34mgenerate_prompt\u001b[39m(\n\u001b[32m    956\u001b[39m     \u001b[38;5;28mself\u001b[39m,\n\u001b[32m   (...)\u001b[39m\u001b[32m    960\u001b[39m     **kwargs: Any,\n\u001b[32m    961\u001b[39m ) -> LLMResult:\n\u001b[32m    962\u001b[39m     prompt_messages = [p.to_messages() \u001b[38;5;28;01mfor\u001b[39;00m p \u001b[38;5;129;01min\u001b[39;00m prompts]\n\u001b[32m--> \u001b[39m\u001b[32m963\u001b[39m     \u001b[38;5;28;01mreturn\u001b[39;00m \u001b[38;5;28;43mself\u001b[39;49m\u001b[43m.\u001b[49m\u001b[43mgenerate\u001b[49m\u001b[43m(\u001b[49m\u001b[43mprompt_messages\u001b[49m\u001b[43m,\u001b[49m\u001b[43m \u001b[49m\u001b[43mstop\u001b[49m\u001b[43m=\u001b[49m\u001b[43mstop\u001b[49m\u001b[43m,\u001b[49m\u001b[43m \u001b[49m\u001b[43mcallbacks\u001b[49m\u001b[43m=\u001b[49m\u001b[43mcallbacks\u001b[49m\u001b[43m,\u001b[49m\u001b[43m \u001b[49m\u001b[43m*\u001b[49m\u001b[43m*\u001b[49m\u001b[43mkwargs\u001b[49m\u001b[43m)\u001b[49m\n",
      "\u001b[36mFile \u001b[39m\u001b[32mm:\\job hunt\\Harrisburg University Documents\\ML Project\\Kris_Naik_series_Projects\\AgenticLanggraph\\.venv\\Lib\\site-packages\\langchain_core\\language_models\\chat_models.py:782\u001b[39m, in \u001b[36mBaseChatModel.generate\u001b[39m\u001b[34m(self, messages, stop, callbacks, tags, metadata, run_name, run_id, **kwargs)\u001b[39m\n\u001b[32m    779\u001b[39m \u001b[38;5;28;01mfor\u001b[39;00m i, m \u001b[38;5;129;01min\u001b[39;00m \u001b[38;5;28menumerate\u001b[39m(input_messages):\n\u001b[32m    780\u001b[39m     \u001b[38;5;28;01mtry\u001b[39;00m:\n\u001b[32m    781\u001b[39m         results.append(\n\u001b[32m--> \u001b[39m\u001b[32m782\u001b[39m             \u001b[38;5;28;43mself\u001b[39;49m\u001b[43m.\u001b[49m\u001b[43m_generate_with_cache\u001b[49m\u001b[43m(\u001b[49m\n\u001b[32m    783\u001b[39m \u001b[43m                \u001b[49m\u001b[43mm\u001b[49m\u001b[43m,\u001b[49m\n\u001b[32m    784\u001b[39m \u001b[43m                \u001b[49m\u001b[43mstop\u001b[49m\u001b[43m=\u001b[49m\u001b[43mstop\u001b[49m\u001b[43m,\u001b[49m\n\u001b[32m    785\u001b[39m \u001b[43m                \u001b[49m\u001b[43mrun_manager\u001b[49m\u001b[43m=\u001b[49m\u001b[43mrun_managers\u001b[49m\u001b[43m[\u001b[49m\u001b[43mi\u001b[49m\u001b[43m]\u001b[49m\u001b[43m \u001b[49m\u001b[38;5;28;43;01mif\u001b[39;49;00m\u001b[43m \u001b[49m\u001b[43mrun_managers\u001b[49m\u001b[43m \u001b[49m\u001b[38;5;28;43;01melse\u001b[39;49;00m\u001b[43m \u001b[49m\u001b[38;5;28;43;01mNone\u001b[39;49;00m\u001b[43m,\u001b[49m\n\u001b[32m    786\u001b[39m \u001b[43m                \u001b[49m\u001b[43m*\u001b[49m\u001b[43m*\u001b[49m\u001b[43mkwargs\u001b[49m\u001b[43m,\u001b[49m\n\u001b[32m    787\u001b[39m \u001b[43m            \u001b[49m\u001b[43m)\u001b[49m\n\u001b[32m    788\u001b[39m         )\n\u001b[32m    789\u001b[39m     \u001b[38;5;28;01mexcept\u001b[39;00m \u001b[38;5;167;01mBaseException\u001b[39;00m \u001b[38;5;28;01mas\u001b[39;00m e:\n\u001b[32m    790\u001b[39m         \u001b[38;5;28;01mif\u001b[39;00m run_managers:\n",
      "\u001b[36mFile \u001b[39m\u001b[32mm:\\job hunt\\Harrisburg University Documents\\ML Project\\Kris_Naik_series_Projects\\AgenticLanggraph\\.venv\\Lib\\site-packages\\langchain_core\\language_models\\chat_models.py:1028\u001b[39m, in \u001b[36mBaseChatModel._generate_with_cache\u001b[39m\u001b[34m(self, messages, stop, run_manager, **kwargs)\u001b[39m\n\u001b[32m   1026\u001b[39m     result = generate_from_stream(\u001b[38;5;28miter\u001b[39m(chunks))\n\u001b[32m   1027\u001b[39m \u001b[38;5;28;01melif\u001b[39;00m inspect.signature(\u001b[38;5;28mself\u001b[39m._generate).parameters.get(\u001b[33m\"\u001b[39m\u001b[33mrun_manager\u001b[39m\u001b[33m\"\u001b[39m):\n\u001b[32m-> \u001b[39m\u001b[32m1028\u001b[39m     result = \u001b[38;5;28;43mself\u001b[39;49m\u001b[43m.\u001b[49m\u001b[43m_generate\u001b[49m\u001b[43m(\u001b[49m\n\u001b[32m   1029\u001b[39m \u001b[43m        \u001b[49m\u001b[43mmessages\u001b[49m\u001b[43m,\u001b[49m\u001b[43m \u001b[49m\u001b[43mstop\u001b[49m\u001b[43m=\u001b[49m\u001b[43mstop\u001b[49m\u001b[43m,\u001b[49m\u001b[43m \u001b[49m\u001b[43mrun_manager\u001b[49m\u001b[43m=\u001b[49m\u001b[43mrun_manager\u001b[49m\u001b[43m,\u001b[49m\u001b[43m \u001b[49m\u001b[43m*\u001b[49m\u001b[43m*\u001b[49m\u001b[43mkwargs\u001b[49m\n\u001b[32m   1030\u001b[39m \u001b[43m    \u001b[49m\u001b[43m)\u001b[49m\n\u001b[32m   1031\u001b[39m \u001b[38;5;28;01melse\u001b[39;00m:\n\u001b[32m   1032\u001b[39m     result = \u001b[38;5;28mself\u001b[39m._generate(messages, stop=stop, **kwargs)\n",
      "\u001b[36mFile \u001b[39m\u001b[32mm:\\job hunt\\Harrisburg University Documents\\ML Project\\Kris_Naik_series_Projects\\AgenticLanggraph\\.venv\\Lib\\site-packages\\langchain_groq\\chat_models.py:557\u001b[39m, in \u001b[36mChatGroq._generate\u001b[39m\u001b[34m(self, messages, stop, run_manager, **kwargs)\u001b[39m\n\u001b[32m    552\u001b[39m message_dicts, params = \u001b[38;5;28mself\u001b[39m._create_message_dicts(messages, stop)\n\u001b[32m    553\u001b[39m params = {\n\u001b[32m    554\u001b[39m     **params,\n\u001b[32m    555\u001b[39m     **kwargs,\n\u001b[32m    556\u001b[39m }\n\u001b[32m--> \u001b[39m\u001b[32m557\u001b[39m response = \u001b[38;5;28;43mself\u001b[39;49m\u001b[43m.\u001b[49m\u001b[43mclient\u001b[49m\u001b[43m.\u001b[49m\u001b[43mcreate\u001b[49m\u001b[43m(\u001b[49m\u001b[43mmessages\u001b[49m\u001b[43m=\u001b[49m\u001b[43mmessage_dicts\u001b[49m\u001b[43m,\u001b[49m\u001b[43m \u001b[49m\u001b[43m*\u001b[49m\u001b[43m*\u001b[49m\u001b[43mparams\u001b[49m\u001b[43m)\u001b[49m\n\u001b[32m    558\u001b[39m \u001b[38;5;28;01mreturn\u001b[39;00m \u001b[38;5;28mself\u001b[39m._create_chat_result(response, params)\n",
      "\u001b[36mFile \u001b[39m\u001b[32mm:\\job hunt\\Harrisburg University Documents\\ML Project\\Kris_Naik_series_Projects\\AgenticLanggraph\\.venv\\Lib\\site-packages\\groq\\resources\\chat\\completions.py:368\u001b[39m, in \u001b[36mCompletions.create\u001b[39m\u001b[34m(self, messages, model, exclude_domains, frequency_penalty, function_call, functions, include_domains, logit_bias, logprobs, max_completion_tokens, max_tokens, metadata, n, parallel_tool_calls, presence_penalty, reasoning_effort, reasoning_format, response_format, search_settings, seed, service_tier, stop, store, stream, temperature, tool_choice, tools, top_logprobs, top_p, user, extra_headers, extra_query, extra_body, timeout)\u001b[39m\n\u001b[32m    181\u001b[39m \u001b[38;5;28;01mdef\u001b[39;00m\u001b[38;5;250m \u001b[39m\u001b[34mcreate\u001b[39m(\n\u001b[32m    182\u001b[39m     \u001b[38;5;28mself\u001b[39m,\n\u001b[32m    183\u001b[39m     *,\n\u001b[32m   (...)\u001b[39m\u001b[32m    229\u001b[39m     timeout: \u001b[38;5;28mfloat\u001b[39m | httpx.Timeout | \u001b[38;5;28;01mNone\u001b[39;00m | NotGiven = NOT_GIVEN,\n\u001b[32m    230\u001b[39m ) -> ChatCompletion | Stream[ChatCompletionChunk]:\n\u001b[32m    231\u001b[39m \u001b[38;5;250m    \u001b[39m\u001b[33;03m\"\"\"\u001b[39;00m\n\u001b[32m    232\u001b[39m \u001b[33;03m    Creates a model response for the given chat conversation.\u001b[39;00m\n\u001b[32m    233\u001b[39m \n\u001b[32m   (...)\u001b[39m\u001b[32m    366\u001b[39m \u001b[33;03m      timeout: Override the client-level default timeout for this request, in seconds\u001b[39;00m\n\u001b[32m    367\u001b[39m \u001b[33;03m    \"\"\"\u001b[39;00m\n\u001b[32m--> \u001b[39m\u001b[32m368\u001b[39m     \u001b[38;5;28;01mreturn\u001b[39;00m \u001b[38;5;28;43mself\u001b[39;49m\u001b[43m.\u001b[49m\u001b[43m_post\u001b[49m\u001b[43m(\u001b[49m\n\u001b[32m    369\u001b[39m \u001b[43m        \u001b[49m\u001b[33;43m\"\u001b[39;49m\u001b[33;43m/openai/v1/chat/completions\u001b[39;49m\u001b[33;43m\"\u001b[39;49m\u001b[43m,\u001b[49m\n\u001b[32m    370\u001b[39m \u001b[43m        \u001b[49m\u001b[43mbody\u001b[49m\u001b[43m=\u001b[49m\u001b[43mmaybe_transform\u001b[49m\u001b[43m(\u001b[49m\n\u001b[32m    371\u001b[39m \u001b[43m            \u001b[49m\u001b[43m{\u001b[49m\n\u001b[32m    372\u001b[39m \u001b[43m                \u001b[49m\u001b[33;43m\"\u001b[39;49m\u001b[33;43mmessages\u001b[39;49m\u001b[33;43m\"\u001b[39;49m\u001b[43m:\u001b[49m\u001b[43m \u001b[49m\u001b[43mmessages\u001b[49m\u001b[43m,\u001b[49m\n\u001b[32m    373\u001b[39m \u001b[43m                \u001b[49m\u001b[33;43m\"\u001b[39;49m\u001b[33;43mmodel\u001b[39;49m\u001b[33;43m\"\u001b[39;49m\u001b[43m:\u001b[49m\u001b[43m \u001b[49m\u001b[43mmodel\u001b[49m\u001b[43m,\u001b[49m\n\u001b[32m    374\u001b[39m \u001b[43m                \u001b[49m\u001b[33;43m\"\u001b[39;49m\u001b[33;43mexclude_domains\u001b[39;49m\u001b[33;43m\"\u001b[39;49m\u001b[43m:\u001b[49m\u001b[43m \u001b[49m\u001b[43mexclude_domains\u001b[49m\u001b[43m,\u001b[49m\n\u001b[32m    375\u001b[39m \u001b[43m                \u001b[49m\u001b[33;43m\"\u001b[39;49m\u001b[33;43mfrequency_penalty\u001b[39;49m\u001b[33;43m\"\u001b[39;49m\u001b[43m:\u001b[49m\u001b[43m \u001b[49m\u001b[43mfrequency_penalty\u001b[49m\u001b[43m,\u001b[49m\n\u001b[32m    376\u001b[39m \u001b[43m                \u001b[49m\u001b[33;43m\"\u001b[39;49m\u001b[33;43mfunction_call\u001b[39;49m\u001b[33;43m\"\u001b[39;49m\u001b[43m:\u001b[49m\u001b[43m \u001b[49m\u001b[43mfunction_call\u001b[49m\u001b[43m,\u001b[49m\n\u001b[32m    377\u001b[39m \u001b[43m                \u001b[49m\u001b[33;43m\"\u001b[39;49m\u001b[33;43mfunctions\u001b[39;49m\u001b[33;43m\"\u001b[39;49m\u001b[43m:\u001b[49m\u001b[43m \u001b[49m\u001b[43mfunctions\u001b[49m\u001b[43m,\u001b[49m\n\u001b[32m    378\u001b[39m \u001b[43m                \u001b[49m\u001b[33;43m\"\u001b[39;49m\u001b[33;43minclude_domains\u001b[39;49m\u001b[33;43m\"\u001b[39;49m\u001b[43m:\u001b[49m\u001b[43m \u001b[49m\u001b[43minclude_domains\u001b[49m\u001b[43m,\u001b[49m\n\u001b[32m    379\u001b[39m \u001b[43m                \u001b[49m\u001b[33;43m\"\u001b[39;49m\u001b[33;43mlogit_bias\u001b[39;49m\u001b[33;43m\"\u001b[39;49m\u001b[43m:\u001b[49m\u001b[43m \u001b[49m\u001b[43mlogit_bias\u001b[49m\u001b[43m,\u001b[49m\n\u001b[32m    380\u001b[39m \u001b[43m                \u001b[49m\u001b[33;43m\"\u001b[39;49m\u001b[33;43mlogprobs\u001b[39;49m\u001b[33;43m\"\u001b[39;49m\u001b[43m:\u001b[49m\u001b[43m \u001b[49m\u001b[43mlogprobs\u001b[49m\u001b[43m,\u001b[49m\n\u001b[32m    381\u001b[39m \u001b[43m                \u001b[49m\u001b[33;43m\"\u001b[39;49m\u001b[33;43mmax_completion_tokens\u001b[39;49m\u001b[33;43m\"\u001b[39;49m\u001b[43m:\u001b[49m\u001b[43m \u001b[49m\u001b[43mmax_completion_tokens\u001b[49m\u001b[43m,\u001b[49m\n\u001b[32m    382\u001b[39m \u001b[43m                \u001b[49m\u001b[33;43m\"\u001b[39;49m\u001b[33;43mmax_tokens\u001b[39;49m\u001b[33;43m\"\u001b[39;49m\u001b[43m:\u001b[49m\u001b[43m \u001b[49m\u001b[43mmax_tokens\u001b[49m\u001b[43m,\u001b[49m\n\u001b[32m    383\u001b[39m \u001b[43m                \u001b[49m\u001b[33;43m\"\u001b[39;49m\u001b[33;43mmetadata\u001b[39;49m\u001b[33;43m\"\u001b[39;49m\u001b[43m:\u001b[49m\u001b[43m \u001b[49m\u001b[43mmetadata\u001b[49m\u001b[43m,\u001b[49m\n\u001b[32m    384\u001b[39m \u001b[43m                \u001b[49m\u001b[33;43m\"\u001b[39;49m\u001b[33;43mn\u001b[39;49m\u001b[33;43m\"\u001b[39;49m\u001b[43m:\u001b[49m\u001b[43m \u001b[49m\u001b[43mn\u001b[49m\u001b[43m,\u001b[49m\n\u001b[32m    385\u001b[39m \u001b[43m                \u001b[49m\u001b[33;43m\"\u001b[39;49m\u001b[33;43mparallel_tool_calls\u001b[39;49m\u001b[33;43m\"\u001b[39;49m\u001b[43m:\u001b[49m\u001b[43m \u001b[49m\u001b[43mparallel_tool_calls\u001b[49m\u001b[43m,\u001b[49m\n\u001b[32m    386\u001b[39m \u001b[43m                \u001b[49m\u001b[33;43m\"\u001b[39;49m\u001b[33;43mpresence_penalty\u001b[39;49m\u001b[33;43m\"\u001b[39;49m\u001b[43m:\u001b[49m\u001b[43m \u001b[49m\u001b[43mpresence_penalty\u001b[49m\u001b[43m,\u001b[49m\n\u001b[32m    387\u001b[39m \u001b[43m                \u001b[49m\u001b[33;43m\"\u001b[39;49m\u001b[33;43mreasoning_effort\u001b[39;49m\u001b[33;43m\"\u001b[39;49m\u001b[43m:\u001b[49m\u001b[43m \u001b[49m\u001b[43mreasoning_effort\u001b[49m\u001b[43m,\u001b[49m\n\u001b[32m    388\u001b[39m \u001b[43m                \u001b[49m\u001b[33;43m\"\u001b[39;49m\u001b[33;43mreasoning_format\u001b[39;49m\u001b[33;43m\"\u001b[39;49m\u001b[43m:\u001b[49m\u001b[43m \u001b[49m\u001b[43mreasoning_format\u001b[49m\u001b[43m,\u001b[49m\n\u001b[32m    389\u001b[39m \u001b[43m                \u001b[49m\u001b[33;43m\"\u001b[39;49m\u001b[33;43mresponse_format\u001b[39;49m\u001b[33;43m\"\u001b[39;49m\u001b[43m:\u001b[49m\u001b[43m \u001b[49m\u001b[43mresponse_format\u001b[49m\u001b[43m,\u001b[49m\n\u001b[32m    390\u001b[39m \u001b[43m                \u001b[49m\u001b[33;43m\"\u001b[39;49m\u001b[33;43msearch_settings\u001b[39;49m\u001b[33;43m\"\u001b[39;49m\u001b[43m:\u001b[49m\u001b[43m \u001b[49m\u001b[43msearch_settings\u001b[49m\u001b[43m,\u001b[49m\n\u001b[32m    391\u001b[39m \u001b[43m                \u001b[49m\u001b[33;43m\"\u001b[39;49m\u001b[33;43mseed\u001b[39;49m\u001b[33;43m\"\u001b[39;49m\u001b[43m:\u001b[49m\u001b[43m \u001b[49m\u001b[43mseed\u001b[49m\u001b[43m,\u001b[49m\n\u001b[32m    392\u001b[39m \u001b[43m                \u001b[49m\u001b[33;43m\"\u001b[39;49m\u001b[33;43mservice_tier\u001b[39;49m\u001b[33;43m\"\u001b[39;49m\u001b[43m:\u001b[49m\u001b[43m \u001b[49m\u001b[43mservice_tier\u001b[49m\u001b[43m,\u001b[49m\n\u001b[32m    393\u001b[39m \u001b[43m                \u001b[49m\u001b[33;43m\"\u001b[39;49m\u001b[33;43mstop\u001b[39;49m\u001b[33;43m\"\u001b[39;49m\u001b[43m:\u001b[49m\u001b[43m \u001b[49m\u001b[43mstop\u001b[49m\u001b[43m,\u001b[49m\n\u001b[32m    394\u001b[39m \u001b[43m                \u001b[49m\u001b[33;43m\"\u001b[39;49m\u001b[33;43mstore\u001b[39;49m\u001b[33;43m\"\u001b[39;49m\u001b[43m:\u001b[49m\u001b[43m \u001b[49m\u001b[43mstore\u001b[49m\u001b[43m,\u001b[49m\n\u001b[32m    395\u001b[39m \u001b[43m                \u001b[49m\u001b[33;43m\"\u001b[39;49m\u001b[33;43mstream\u001b[39;49m\u001b[33;43m\"\u001b[39;49m\u001b[43m:\u001b[49m\u001b[43m \u001b[49m\u001b[43mstream\u001b[49m\u001b[43m,\u001b[49m\n\u001b[32m    396\u001b[39m \u001b[43m                \u001b[49m\u001b[33;43m\"\u001b[39;49m\u001b[33;43mtemperature\u001b[39;49m\u001b[33;43m\"\u001b[39;49m\u001b[43m:\u001b[49m\u001b[43m \u001b[49m\u001b[43mtemperature\u001b[49m\u001b[43m,\u001b[49m\n\u001b[32m    397\u001b[39m \u001b[43m                \u001b[49m\u001b[33;43m\"\u001b[39;49m\u001b[33;43mtool_choice\u001b[39;49m\u001b[33;43m\"\u001b[39;49m\u001b[43m:\u001b[49m\u001b[43m \u001b[49m\u001b[43mtool_choice\u001b[49m\u001b[43m,\u001b[49m\n\u001b[32m    398\u001b[39m \u001b[43m                \u001b[49m\u001b[33;43m\"\u001b[39;49m\u001b[33;43mtools\u001b[39;49m\u001b[33;43m\"\u001b[39;49m\u001b[43m:\u001b[49m\u001b[43m \u001b[49m\u001b[43mtools\u001b[49m\u001b[43m,\u001b[49m\n\u001b[32m    399\u001b[39m \u001b[43m                \u001b[49m\u001b[33;43m\"\u001b[39;49m\u001b[33;43mtop_logprobs\u001b[39;49m\u001b[33;43m\"\u001b[39;49m\u001b[43m:\u001b[49m\u001b[43m \u001b[49m\u001b[43mtop_logprobs\u001b[49m\u001b[43m,\u001b[49m\n\u001b[32m    400\u001b[39m \u001b[43m                \u001b[49m\u001b[33;43m\"\u001b[39;49m\u001b[33;43mtop_p\u001b[39;49m\u001b[33;43m\"\u001b[39;49m\u001b[43m:\u001b[49m\u001b[43m \u001b[49m\u001b[43mtop_p\u001b[49m\u001b[43m,\u001b[49m\n\u001b[32m    401\u001b[39m \u001b[43m                \u001b[49m\u001b[33;43m\"\u001b[39;49m\u001b[33;43muser\u001b[39;49m\u001b[33;43m\"\u001b[39;49m\u001b[43m:\u001b[49m\u001b[43m \u001b[49m\u001b[43muser\u001b[49m\u001b[43m,\u001b[49m\n\u001b[32m    402\u001b[39m \u001b[43m            \u001b[49m\u001b[43m}\u001b[49m\u001b[43m,\u001b[49m\n\u001b[32m    403\u001b[39m \u001b[43m            \u001b[49m\u001b[43mcompletion_create_params\u001b[49m\u001b[43m.\u001b[49m\u001b[43mCompletionCreateParams\u001b[49m\u001b[43m,\u001b[49m\n\u001b[32m    404\u001b[39m \u001b[43m        \u001b[49m\u001b[43m)\u001b[49m\u001b[43m,\u001b[49m\n\u001b[32m    405\u001b[39m \u001b[43m        \u001b[49m\u001b[43moptions\u001b[49m\u001b[43m=\u001b[49m\u001b[43mmake_request_options\u001b[49m\u001b[43m(\u001b[49m\n\u001b[32m    406\u001b[39m \u001b[43m            \u001b[49m\u001b[43mextra_headers\u001b[49m\u001b[43m=\u001b[49m\u001b[43mextra_headers\u001b[49m\u001b[43m,\u001b[49m\u001b[43m \u001b[49m\u001b[43mextra_query\u001b[49m\u001b[43m=\u001b[49m\u001b[43mextra_query\u001b[49m\u001b[43m,\u001b[49m\u001b[43m \u001b[49m\u001b[43mextra_body\u001b[49m\u001b[43m=\u001b[49m\u001b[43mextra_body\u001b[49m\u001b[43m,\u001b[49m\u001b[43m \u001b[49m\u001b[43mtimeout\u001b[49m\u001b[43m=\u001b[49m\u001b[43mtimeout\u001b[49m\n\u001b[32m    407\u001b[39m \u001b[43m        \u001b[49m\u001b[43m)\u001b[49m\u001b[43m,\u001b[49m\n\u001b[32m    408\u001b[39m \u001b[43m        \u001b[49m\u001b[43mcast_to\u001b[49m\u001b[43m=\u001b[49m\u001b[43mChatCompletion\u001b[49m\u001b[43m,\u001b[49m\n\u001b[32m    409\u001b[39m \u001b[43m        \u001b[49m\u001b[43mstream\u001b[49m\u001b[43m=\u001b[49m\u001b[43mstream\u001b[49m\u001b[43m \u001b[49m\u001b[38;5;129;43;01mor\u001b[39;49;00m\u001b[43m \u001b[49m\u001b[38;5;28;43;01mFalse\u001b[39;49;00m\u001b[43m,\u001b[49m\n\u001b[32m    410\u001b[39m \u001b[43m        \u001b[49m\u001b[43mstream_cls\u001b[49m\u001b[43m=\u001b[49m\u001b[43mStream\u001b[49m\u001b[43m[\u001b[49m\u001b[43mChatCompletionChunk\u001b[49m\u001b[43m]\u001b[49m\u001b[43m,\u001b[49m\n\u001b[32m    411\u001b[39m \u001b[43m    \u001b[49m\u001b[43m)\u001b[49m\n",
      "\u001b[36mFile \u001b[39m\u001b[32mm:\\job hunt\\Harrisburg University Documents\\ML Project\\Kris_Naik_series_Projects\\AgenticLanggraph\\.venv\\Lib\\site-packages\\groq\\_base_client.py:1232\u001b[39m, in \u001b[36mSyncAPIClient.post\u001b[39m\u001b[34m(self, path, cast_to, body, options, files, stream, stream_cls)\u001b[39m\n\u001b[32m   1218\u001b[39m \u001b[38;5;28;01mdef\u001b[39;00m\u001b[38;5;250m \u001b[39m\u001b[34mpost\u001b[39m(\n\u001b[32m   1219\u001b[39m     \u001b[38;5;28mself\u001b[39m,\n\u001b[32m   1220\u001b[39m     path: \u001b[38;5;28mstr\u001b[39m,\n\u001b[32m   (...)\u001b[39m\u001b[32m   1227\u001b[39m     stream_cls: \u001b[38;5;28mtype\u001b[39m[_StreamT] | \u001b[38;5;28;01mNone\u001b[39;00m = \u001b[38;5;28;01mNone\u001b[39;00m,\n\u001b[32m   1228\u001b[39m ) -> ResponseT | _StreamT:\n\u001b[32m   1229\u001b[39m     opts = FinalRequestOptions.construct(\n\u001b[32m   1230\u001b[39m         method=\u001b[33m\"\u001b[39m\u001b[33mpost\u001b[39m\u001b[33m\"\u001b[39m, url=path, json_data=body, files=to_httpx_files(files), **options\n\u001b[32m   1231\u001b[39m     )\n\u001b[32m-> \u001b[39m\u001b[32m1232\u001b[39m     \u001b[38;5;28;01mreturn\u001b[39;00m cast(ResponseT, \u001b[38;5;28;43mself\u001b[39;49m\u001b[43m.\u001b[49m\u001b[43mrequest\u001b[49m\u001b[43m(\u001b[49m\u001b[43mcast_to\u001b[49m\u001b[43m,\u001b[49m\u001b[43m \u001b[49m\u001b[43mopts\u001b[49m\u001b[43m,\u001b[49m\u001b[43m \u001b[49m\u001b[43mstream\u001b[49m\u001b[43m=\u001b[49m\u001b[43mstream\u001b[49m\u001b[43m,\u001b[49m\u001b[43m \u001b[49m\u001b[43mstream_cls\u001b[49m\u001b[43m=\u001b[49m\u001b[43mstream_cls\u001b[49m\u001b[43m)\u001b[49m)\n",
      "\u001b[36mFile \u001b[39m\u001b[32mm:\\job hunt\\Harrisburg University Documents\\ML Project\\Kris_Naik_series_Projects\\AgenticLanggraph\\.venv\\Lib\\site-packages\\groq\\_base_client.py:1034\u001b[39m, in \u001b[36mSyncAPIClient.request\u001b[39m\u001b[34m(self, cast_to, options, stream, stream_cls)\u001b[39m\n\u001b[32m   1031\u001b[39m             err.response.read()\n\u001b[32m   1033\u001b[39m         log.debug(\u001b[33m\"\u001b[39m\u001b[33mRe-raising status error\u001b[39m\u001b[33m\"\u001b[39m)\n\u001b[32m-> \u001b[39m\u001b[32m1034\u001b[39m         \u001b[38;5;28;01mraise\u001b[39;00m \u001b[38;5;28mself\u001b[39m._make_status_error_from_response(err.response) \u001b[38;5;28;01mfrom\u001b[39;00m\u001b[38;5;250m \u001b[39m\u001b[38;5;28;01mNone\u001b[39;00m\n\u001b[32m   1036\u001b[39m     \u001b[38;5;28;01mbreak\u001b[39;00m\n\u001b[32m   1038\u001b[39m \u001b[38;5;28;01massert\u001b[39;00m response \u001b[38;5;129;01mis\u001b[39;00m \u001b[38;5;129;01mnot\u001b[39;00m \u001b[38;5;28;01mNone\u001b[39;00m, \u001b[33m\"\u001b[39m\u001b[33mcould not resolve response (should never happen)\u001b[39m\u001b[33m\"\u001b[39m\n",
      "\u001b[31mBadRequestError\u001b[39m: Error code: 400 - {'error': {'message': \"tool call validation failed: attempted to call tool 'get_name' which was not request.tools\", 'type': 'invalid_request_error', 'code': 'tool_use_failed', 'failed_generation': '<tool-use>\\n{\\n    \"tool_calls\": [\\n        {\\n            \"id\": \"pending\",\\n            \"type\": \"function\",\\n            \"function\": {\\n                \"name\": \"get_name\"\\n            },\\n            \"parameters\": {\\n                \"query\": \"What is my name\"\\n            }\\n        }\\n    ]\\n}\\n</tool-use>'}}",
      "During task with name 'tool_calling_llm' and id 'f7b4ad51-4e01-6e6e-bf41-56670256e470'"
     ]
    }
   ],
   "source": [
    "response=graph.invoke({\"messages\":\"What is my name\"})\n",
    "\n",
    "for m in response[\"messages\"]:\n",
    "    m.pretty_print()\n"
   ]
  },
  {
   "cell_type": "markdown",
   "id": "d41d91fd",
   "metadata": {},
   "source": [
    "So you will see it says bad request coz it doesn't have any clue. But, now we will do this.\n",
    "\n",
    "##### adding memory to our state graph."
   ]
  },
  {
   "cell_type": "code",
   "execution_count": 36,
   "id": "725af8cc",
   "metadata": {},
   "outputs": [
    {
     "data": {
      "image/png": "[encoded data removed]",
      "text/plain": [
       "<IPython.core.display.Image object>"
      ]
     },
     "metadata": {},
     "output_type": "display_data"
    }
   ],
   "source": [
    "from langgraph.graph import StateGraph,START,END\n",
    "from langgraph.prebuilt import ToolNode, tools_condition\n",
    "from langgraph.checkpoint.memory import MemorySaver\n",
    "\n",
    "memory=MemorySaver()\n",
    "\n",
    "# Node Defination\n",
    "def tool_calling_llm(state:State):\n",
    "    return{\"messages\":[llm_with_tool.invoke(state[\"messages\"])]}\n",
    "\n",
    "## Graph\n",
    "builder= StateGraph(State)\n",
    "builder.add_node(\"tool_calling_llm\", tool_calling_llm)\n",
    "builder.add_node('tools',ToolNode(tools))\n",
    "\n",
    "## Add the Edges\n",
    "builder.add_edge(START,'tool_calling_llm')\n",
    "builder.add_conditional_edges(\n",
    "    \"tool_calling_llm\",\n",
    "    tools_condition\n",
    ")\n",
    "builder.add_edge(\"tools\",'tool_calling_llm') #going back to tool calling LLM\n",
    "\n",
    "# Compile the grapgh \n",
    "graph=builder.compile(checkpointer=memory)\n",
    "\n",
    "from IPython.display import Image,display\n",
    "display(Image(graph.get_graph().draw_mermaid_png()))"
   ]
  },
  {
   "cell_type": "markdown",
   "id": "95322a7e",
   "metadata": {},
   "source": [
    "For adding a memoery we should have a thread ID which is unique in configurable key having a unique value."
   ]
  },
  {
   "cell_type": "code",
   "execution_count": 37,
   "id": "8ffed906",
   "metadata": {},
   "outputs": [
    {
     "data": {
      "text/plain": [
       "{'messages': [HumanMessage(content='Hey my name is Meet!', additional_kwargs={}, response_metadata={}, id='db23c299-c494-42b7-af28-3c2e63a832b0'),\n",
       "  AIMessage(content='Nice to meet you, Meet!', additional_kwargs={}, response_metadata={'token_usage': {'completion_tokens': 8, 'prompt_tokens': 2909, 'total_tokens': 2917, 'completion_time': 0.017887686, 'prompt_time': 0.323185379, 'queue_time': 0.06460888399999998, 'total_time': 0.341073065}, 'model_name': 'llama3-8b-8192', 'system_fingerprint': 'fp_0fb809dba3', 'service_tier': 'on_demand', 'finish_reason': 'stop', 'logprobs': None}, id='run--751ecf73-2610-45ab-9188-258af818a35b-0', usage_metadata={'input_tokens': 2909, 'output_tokens': 8, 'total_tokens': 2917})]}"
      ]
     },
     "execution_count": 37,
     "metadata": {},
     "output_type": "execute_result"
    }
   ],
   "source": [
    "config= {\"configurable\":{\"thread_id\":\"1\"}}\n",
    "\n",
    "graph.invoke({\"messages\":\"Hi My name is Meet Bhatt\"},config=config)\n",
    "\n",
    "response"
   ]
  },
  {
   "cell_type": "code",
   "execution_count": 38,
   "id": "0e003278",
   "metadata": {},
   "outputs": [
    {
     "data": {
      "text/plain": [
       "'Nice to meet you, Meet!'"
      ]
     },
     "execution_count": 38,
     "metadata": {},
     "output_type": "execute_result"
    }
   ],
   "source": [
    "response['messages'][-1].content"
   ]
  },
  {
   "cell_type": "code",
   "execution_count": 39,
   "id": "1867be2d",
   "metadata": {},
   "outputs": [
    {
     "name": "stdout",
     "output_type": "stream",
     "text": [
      "I remember! Your name is Meet Bhatt.\n"
     ]
    }
   ],
   "source": [
    "response=graph.invoke({\"messages\":\"what is my name. Do you remember\"},config=config)\n",
    "print(response['messages'][-1].content)"
   ]
  },
  {
   "cell_type": "markdown",
   "id": "9de1ec30",
   "metadata": {},
   "source": [
    "### Streaming in Langgrapgh."
   ]
  },
  {
   "cell_type": "code",
   "execution_count": 53,
   "id": "5c8ccb37",
   "metadata": {},
   "outputs": [],
   "source": [
    "from langgraph.checkpoint.memory import MemorySaver\n",
    "memory=MemorySaver()"
   ]
  },
  {
   "cell_type": "code",
   "execution_count": 54,
   "id": "3cc35b79",
   "metadata": {},
   "outputs": [],
   "source": [
    "def Superbot(state:State):\n",
    "    return{\"messages\":[llm.invoke(state[\"messages\"])]}\n"
   ]
  },
  {
   "cell_type": "markdown",
   "id": "1fbac5c2",
   "metadata": {},
   "source": [
    "visualizing"
   ]
  },
  {
   "cell_type": "code",
   "execution_count": 55,
   "id": "6c098d2a",
   "metadata": {},
   "outputs": [
    {
     "data": {
      "image/png": "[encoded data removed]",
      "text/plain": [
       "<IPython.core.display.Image object>"
      ]
     },
     "metadata": {},
     "output_type": "display_data"
    }
   ],
   "source": [
    "graph=StateGraph(State)\n",
    "\n",
    "## node\n",
    "graph.add_node(\"Superbot\",Superbot)\n",
    "\n",
    "## Edges\n",
    "graph.add_edge(START,\"Superbot\")\n",
    "graph.add_edge(\"Superbot\",END)\n",
    "\n",
    "graph_builder=graph.compile(checkpointer=memory)\n",
    "\n",
    "## Display\n",
    "from IPython.display import Image, display\n",
    "display(Image(graph_builder.get_graph().draw_mermaid_png()))"
   ]
  },
  {
   "cell_type": "code",
   "execution_count": 56,
   "id": "a6e17cc6",
   "metadata": {},
   "outputs": [
    {
     "data": {
      "text/plain": [
       "{'messages': [HumanMessage(content='Hey I am Meet! I love Cricket.', additional_kwargs={}, response_metadata={}, id='38843408-09a5-4eb1-afa8-77c3f54d60ba'),\n",
       "  AIMessage(content=\"Hello Meet! Nice to meet you!\\n\\nCricket is an amazing sport, isn't it? So many exciting matches and thrilling moments! Who's your favorite team or player?\\n\\nAre you a fan of Test cricket, One-Day Internationals (ODIs), or Twenty20 (T20) cricket?\", additional_kwargs={}, response_metadata={'token_usage': {'completion_tokens': 62, 'prompt_tokens': 19, 'total_tokens': 81, 'completion_time': 0.101999606, 'prompt_time': 0.007011658, 'queue_time': 0.065343074, 'total_time': 0.109011264}, 'model_name': 'llama3-8b-8192', 'system_fingerprint': 'fp_0fb809dba3', 'service_tier': 'on_demand', 'finish_reason': 'stop', 'logprobs': None}, id='run--0ca83f5d-f617-41cb-b58a-51fd09241d1a-0', usage_metadata={'input_tokens': 19, 'output_tokens': 62, 'total_tokens': 81})]}"
      ]
     },
     "execution_count": 56,
     "metadata": {},
     "output_type": "execute_result"
    }
   ],
   "source": [
    "## Invocation:\n",
    "\n",
    "config={\"configurable\":{\"thread_id\":\"1\"}}\n",
    "\n",
    "graph_builder.invoke({'messages':\"Hey I am Meet! I love Cricket.\"},config=config)\n",
    "        "
   ]
  },
  {
   "cell_type": "markdown",
   "id": "c3b156a3",
   "metadata": {},
   "source": [
    "#### Streaming \n",
    "\n",
    "Methods : .stream()  and   astream()\n",
    "\n",
    "    -- These methods are sync and async for streaming back the results\n",
    "    \n",
    "Additional Parameters:\n",
    "\n",
    "    -- Values: This streams full state of the graph after each node is called\n",
    "    -- Updates: This streams update to the State of the graph after each    node is called."
   ]
  },
  {
   "cell_type": "code",
   "execution_count": 58,
   "id": "52ef8028",
   "metadata": {},
   "outputs": [
    {
     "name": "stdout",
     "output_type": "stream",
     "text": [
      "{'messages': [HumanMessage(content='Hi my name is meet and I love soccer.', additional_kwargs={}, response_metadata={}, id='8492ab80-9940-4a51-a179-43111f4dc161'), HumanMessage(content='Hi my name is meet and I love soccer.', additional_kwargs={}, response_metadata={}, id='4797e9e5-5997-4bb3-99bb-59f5cba90312')]}\n",
      "{'messages': [HumanMessage(content='Hi my name is meet and I love soccer.', additional_kwargs={}, response_metadata={}, id='8492ab80-9940-4a51-a179-43111f4dc161'), HumanMessage(content='Hi my name is meet and I love soccer.', additional_kwargs={}, response_metadata={}, id='4797e9e5-5997-4bb3-99bb-59f5cba90312'), AIMessage(content=\"Hi Meet! Nice to meet you! It's great to hear that you love soccer! Which team is your favorite? Do you play soccer yourself or are you more of a fan who loves watching and following the games?\", additional_kwargs={}, response_metadata={'token_usage': {'completion_tokens': 45, 'prompt_tokens': 40, 'total_tokens': 85, 'completion_time': 0.094767568, 'prompt_time': 0.038636317, 'queue_time': 0.194066069, 'total_time': 0.133403885}, 'model_name': 'llama3-8b-8192', 'system_fingerprint': 'fp_0fb809dba3', 'service_tier': 'on_demand', 'finish_reason': 'stop', 'logprobs': None}, id='run--1c70296a-e4ea-494c-adfe-2271f1e0966b-0', usage_metadata={'input_tokens': 40, 'output_tokens': 45, 'total_tokens': 85})]}\n"
     ]
    }
   ],
   "source": [
    "config={\"configurable\":{\"thread_id\":\"3\"}}\n",
    "\n",
    "for chunk in graph_builder.stream({\"messages\":'Hi my name is meet and I love soccer.'},config=config,stream_mode='values'):\n",
    "    print(chunk)"
   ]
  },
  {
   "cell_type": "code",
   "execution_count": 60,
   "id": "b1914b6e",
   "metadata": {},
   "outputs": [
    {
     "name": "stdout",
     "output_type": "stream",
     "text": [
      "{'Superbot': {'messages': [AIMessage(content=\"Hi Meet! I think we've already established that you love soccer, but it's great to hear it again! Would you like to talk about your favorite team, player, or league? Or maybe you'd like to simulate a soccer match or tournament with me? Just let me know what you'd like to do!\", additional_kwargs={}, response_metadata={'token_usage': {'completion_tokens': 65, 'prompt_tokens': 187, 'total_tokens': 252, 'completion_time': 0.104437584, 'prompt_time': 0.024154101, 'queue_time': 0.062691958, 'total_time': 0.128591685}, 'model_name': 'llama3-8b-8192', 'system_fingerprint': 'fp_0fb809dba3', 'service_tier': 'on_demand', 'finish_reason': 'stop', 'logprobs': None}, id='run--d13af07d-19d0-45eb-8f13-22d37eb23864-0', usage_metadata={'input_tokens': 187, 'output_tokens': 65, 'total_tokens': 252})]}}\n"
     ]
    }
   ],
   "source": [
    "config={\"configurable\":{\"thread_id\":\"3\"}}\n",
    "\n",
    "for chunk in graph_builder.stream({\"messages\":'Hi my name is meet and I love soccer.'},config=config,stream_mode='updates'):\n",
    "    print(chunk)"
   ]
  },
  {
   "cell_type": "code",
   "execution_count": 61,
   "id": "a71819d6",
   "metadata": {},
   "outputs": [
    {
     "name": "stdout",
     "output_type": "stream",
     "text": [
      "{'messages': [HumanMessage(content='Hi my name is meet and I love soccer.', additional_kwargs={}, response_metadata={}, id='8492ab80-9940-4a51-a179-43111f4dc161'), HumanMessage(content='Hi my name is meet and I love soccer.', additional_kwargs={}, response_metadata={}, id='4797e9e5-5997-4bb3-99bb-59f5cba90312'), AIMessage(content=\"Hi Meet! Nice to meet you! It's great to hear that you love soccer! Which team is your favorite? Do you play soccer yourself or are you more of a fan who loves watching and following the games?\", additional_kwargs={}, response_metadata={'token_usage': {'completion_tokens': 45, 'prompt_tokens': 40, 'total_tokens': 85, 'completion_time': 0.094767568, 'prompt_time': 0.038636317, 'queue_time': 0.194066069, 'total_time': 0.133403885}, 'model_name': 'llama3-8b-8192', 'system_fingerprint': 'fp_0fb809dba3', 'service_tier': 'on_demand', 'finish_reason': 'stop', 'logprobs': None}, id='run--1c70296a-e4ea-494c-adfe-2271f1e0966b-0', usage_metadata={'input_tokens': 40, 'output_tokens': 45, 'total_tokens': 85}), HumanMessage(content='Hi my name is meet and I love soccer.', additional_kwargs={}, response_metadata={}, id='d4d287f7-1981-458b-84c5-b85a0565898c'), AIMessage(content=\"Hi Meet! It seems like you've already told me that you love soccer, but I'm excited to chat with you about it! What's your favorite part about soccer? Is it the thrill of scoring a goal, the strategy of playing defense, or the excitement of watching a big match with friends and family?\", additional_kwargs={}, response_metadata={'token_usage': {'completion_tokens': 64, 'prompt_tokens': 104, 'total_tokens': 168, 'completion_time': 0.092228881, 'prompt_time': 0.014638746, 'queue_time': 0.062404223, 'total_time': 0.106867627}, 'model_name': 'llama3-8b-8192', 'system_fingerprint': 'fp_5b339000ab', 'service_tier': 'on_demand', 'finish_reason': 'stop', 'logprobs': None}, id='run--c06016bc-c7cd-44a4-9727-fc7de967a46b-0', usage_metadata={'input_tokens': 104, 'output_tokens': 64, 'total_tokens': 168}), HumanMessage(content='Hi my name is meet and I love soccer.', additional_kwargs={}, response_metadata={}, id='65364aec-5292-4564-913a-5ba92653a0b7'), AIMessage(content=\"Hi Meet! I think we've already established that you love soccer, but it's great to hear it again! Would you like to talk about your favorite team, player, or league? Or maybe you'd like to simulate a soccer match or tournament with me? Just let me know what you'd like to do!\", additional_kwargs={}, response_metadata={'token_usage': {'completion_tokens': 65, 'prompt_tokens': 187, 'total_tokens': 252, 'completion_time': 0.104437584, 'prompt_time': 0.024154101, 'queue_time': 0.062691958, 'total_time': 0.128591685}, 'model_name': 'llama3-8b-8192', 'system_fingerprint': 'fp_0fb809dba3', 'service_tier': 'on_demand', 'finish_reason': 'stop', 'logprobs': None}, id='run--d13af07d-19d0-45eb-8f13-22d37eb23864-0', usage_metadata={'input_tokens': 187, 'output_tokens': 65, 'total_tokens': 252}), HumanMessage(content='I also like F1', additional_kwargs={}, response_metadata={}, id='16badc7f-d424-42d7-a294-21eefda06d45')]}\n",
      "{'messages': [HumanMessage(content='Hi my name is meet and I love soccer.', additional_kwargs={}, response_metadata={}, id='8492ab80-9940-4a51-a179-43111f4dc161'), HumanMessage(content='Hi my name is meet and I love soccer.', additional_kwargs={}, response_metadata={}, id='4797e9e5-5997-4bb3-99bb-59f5cba90312'), AIMessage(content=\"Hi Meet! Nice to meet you! It's great to hear that you love soccer! Which team is your favorite? Do you play soccer yourself or are you more of a fan who loves watching and following the games?\", additional_kwargs={}, response_metadata={'token_usage': {'completion_tokens': 45, 'prompt_tokens': 40, 'total_tokens': 85, 'completion_time': 0.094767568, 'prompt_time': 0.038636317, 'queue_time': 0.194066069, 'total_time': 0.133403885}, 'model_name': 'llama3-8b-8192', 'system_fingerprint': 'fp_0fb809dba3', 'service_tier': 'on_demand', 'finish_reason': 'stop', 'logprobs': None}, id='run--1c70296a-e4ea-494c-adfe-2271f1e0966b-0', usage_metadata={'input_tokens': 40, 'output_tokens': 45, 'total_tokens': 85}), HumanMessage(content='Hi my name is meet and I love soccer.', additional_kwargs={}, response_metadata={}, id='d4d287f7-1981-458b-84c5-b85a0565898c'), AIMessage(content=\"Hi Meet! It seems like you've already told me that you love soccer, but I'm excited to chat with you about it! What's your favorite part about soccer? Is it the thrill of scoring a goal, the strategy of playing defense, or the excitement of watching a big match with friends and family?\", additional_kwargs={}, response_metadata={'token_usage': {'completion_tokens': 64, 'prompt_tokens': 104, 'total_tokens': 168, 'completion_time': 0.092228881, 'prompt_time': 0.014638746, 'queue_time': 0.062404223, 'total_time': 0.106867627}, 'model_name': 'llama3-8b-8192', 'system_fingerprint': 'fp_5b339000ab', 'service_tier': 'on_demand', 'finish_reason': 'stop', 'logprobs': None}, id='run--c06016bc-c7cd-44a4-9727-fc7de967a46b-0', usage_metadata={'input_tokens': 104, 'output_tokens': 64, 'total_tokens': 168}), HumanMessage(content='Hi my name is meet and I love soccer.', additional_kwargs={}, response_metadata={}, id='65364aec-5292-4564-913a-5ba92653a0b7'), AIMessage(content=\"Hi Meet! I think we've already established that you love soccer, but it's great to hear it again! Would you like to talk about your favorite team, player, or league? Or maybe you'd like to simulate a soccer match or tournament with me? Just let me know what you'd like to do!\", additional_kwargs={}, response_metadata={'token_usage': {'completion_tokens': 65, 'prompt_tokens': 187, 'total_tokens': 252, 'completion_time': 0.104437584, 'prompt_time': 0.024154101, 'queue_time': 0.062691958, 'total_time': 0.128591685}, 'model_name': 'llama3-8b-8192', 'system_fingerprint': 'fp_0fb809dba3', 'service_tier': 'on_demand', 'finish_reason': 'stop', 'logprobs': None}, id='run--d13af07d-19d0-45eb-8f13-22d37eb23864-0', usage_metadata={'input_tokens': 187, 'output_tokens': 65, 'total_tokens': 252}), HumanMessage(content='I also like F1', additional_kwargs={}, response_metadata={}, id='16badc7f-d424-42d7-a294-21eefda06d45'), AIMessage(content=\"Great addition! Meet, it seems like you're a fan of high-speed action with your love for soccer and F1! Which F1 team is your favorite? Do you have a favorite driver, like Lewis Hamilton or Max Verstappen? Or do you enjoy following the constructors' championship and seeing how the teams perform throughout the season?\\n\\nAnd how do you like to follow F1? Do you watch the races live, or do you catch up on highlights and analysis afterwards?\", additional_kwargs={}, response_metadata={'token_usage': {'completion_tokens': 97, 'prompt_tokens': 266, 'total_tokens': 363, 'completion_time': 0.189111265, 'prompt_time': 0.107448704, 'queue_time': 0.06253973799999998, 'total_time': 0.296559969}, 'model_name': 'llama3-8b-8192', 'system_fingerprint': 'fp_0fb809dba3', 'service_tier': 'on_demand', 'finish_reason': 'stop', 'logprobs': None}, id='run--314ef10b-0ab7-425f-87ba-431c70105031-0', usage_metadata={'input_tokens': 266, 'output_tokens': 97, 'total_tokens': 363})]}\n"
     ]
    }
   ],
   "source": [
    "for chunk in graph_builder.stream({\"messages\":'I also like F1'},config=config,stream_mode='values'):\n",
    "    print(chunk)"
   ]
  }
 ],
 "metadata": {
  "kernelspec": {
   "display_name": "AgenticLanggraph",
   "language": "python",
   "name": "python3"
  },
  "language_info": {
   "codemirror_mode": {
    "name": "ipython",
    "version": 3
   },
   "file_extension": ".py",
   "mimetype": "text/x-python",
   "name": "python",
   "nbconvert_exporter": "python",
   "pygments_lexer": "ipython3",
   "version": "3.11.9"
  }
 },
 "nbformat": 4,
 "nbformat_minor": 5
}
